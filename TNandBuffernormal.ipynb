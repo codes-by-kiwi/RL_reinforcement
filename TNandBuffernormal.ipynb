{
  "cells": [
    {
      "cell_type": "code",
      "execution_count": 1,
      "metadata": {
        "id": "UwfkhbCfRYz2"
      },
      "outputs": [],
      "source": [
        "from collections import deque\n",
        "\n",
        "buffer_max_size = 20000 #max number of episodes in a buffer\n",
        "batch_size = 64 #Number of episodes to sample during each Q-value update\n",
        "episodes_buffer = deque(maxlen=buffer_max_size)"
      ]
    },
    {
      "cell_type": "code",
      "execution_count": 2,
      "metadata": {
        "id": "CtzU0xhtRcZa"
      },
      "outputs": [],
      "source": [
        "def add_episode_to_buffer(state, action, reward, next_state, terminated):\n",
        "    episode = (state, action, reward, next_state, terminated)\n",
        "    episodes_buffer.append(episode)\n"
      ]
    },
    {
      "cell_type": "code",
      "execution_count": 3,
      "metadata": {
        "id": "ghIUkkMbRdUq"
      },
      "outputs": [],
      "source": [
        "import random\n",
        "\n",
        "def sampling_batch():\n",
        "    return random.sample(episodes_buffer, batch_size)"
      ]
    },
    {
      "cell_type": "code",
      "execution_count": 4,
      "metadata": {
        "id": "GF74wAZhReXZ"
      },
      "outputs": [],
      "source": [
        "def storage_in_buffer():\n",
        "    return len(episodes_buffer) > batch_size"
      ]
    },
    {
      "cell_type": "code",
      "execution_count": 5,
      "metadata": {
        "colab": {
          "base_uri": "https://localhost:8080/"
        },
        "id": "MSP0bC5zRfVR",
        "outputId": "ae9363a4-eeb1-4820-ac74-f1b04008166b"
      },
      "outputs": [
        {
          "name": "stderr",
          "output_type": "stream",
          "text": [
            "c:\\Users\\mrnal\\anaconda3\\envs\\final_tensor_env\\Lib\\site-packages\\gym\\core.py:317: DeprecationWarning: \u001b[33mWARN: Initializing wrapper in old step API which returns one bool instead of two. It is recommended to set `new_step_api=True` to use new step API. This will be the default behaviour in future.\u001b[0m\n",
            "  deprecation(\n",
            "c:\\Users\\mrnal\\anaconda3\\envs\\final_tensor_env\\Lib\\site-packages\\gym\\wrappers\\step_api_compatibility.py:39: DeprecationWarning: \u001b[33mWARN: Initializing environment in old step API which returns one bool instead of two. It is recommended to set `new_step_api=True` to use new step API. This will be the default behaviour in future.\u001b[0m\n",
            "  deprecation(\n"
          ]
        }
      ],
      "source": [
        "import gym\n",
        "import numpy as np\n",
        "import tensorflow as tf\n",
        "from tensorflow.keras import layers,Input\n",
        "import matplotlib.pyplot as plt\n",
        "\n",
        "cartpole_env = gym.make('CartPole-v1')\n"
      ]
    },
    {
      "cell_type": "code",
      "execution_count": 6,
      "metadata": {
        "id": "cdQhh9sORgYH"
      },
      "outputs": [],
      "source": [
        "def build_neural_model_Q(state_space_size, action_space_size):\n",
        "    model = tf.keras.Sequential([\n",
        "        Input(shape=(state_space_size,)),\n",
        "        layers.Dense(64, activation='relu'),\n",
        "        layers.Dense(24, activation='relu'),\n",
        "        layers.Dense(action_space_size, activation='linear')\n",
        "    ])\n",
        "    model.compile(optimizer=tf.keras.optimizers.Adam(learning_rate=0.002))\n",
        "    return model\n"
      ]
    },
    {
      "cell_type": "code",
      "execution_count": 7,
      "metadata": {
        "id": "0ynIhvN4Rhkb"
      },
      "outputs": [],
      "source": [
        "discount_factor = 0.99\n",
        "explore_epsilon = 1.0\n",
        "epsilon_decay = 0.995\n",
        "maximum_epsilon = 0.75\n",
        "learning_value = 0.09\n",
        "num_episodes = 100\n",
        "num_repetitons = 5\n",
        "target_steps = 2000 ##across all episodes in a run\n"
      ]
    },
    {
      "cell_type": "code",
      "execution_count": 8,
      "metadata": {
        "id": "uVK7cv5gRiko"
      },
      "outputs": [],
      "source": [
        "state_size_sample = cartpole_env.observation_space.shape[0]\n",
        "action_size_sample = cartpole_env.action_space.n\n",
        "model_sample = build_neural_model_Q(state_size_sample, action_size_sample)\n",
        "target_model_sample = build_neural_model_Q(state_size_sample, action_size_sample)"
      ]
    },
    {
      "cell_type": "code",
      "execution_count": 9,
      "metadata": {
        "colab": {
          "base_uri": "https://localhost:8080/"
        },
        "id": "zXzCwWE4Rjkx",
        "outputId": "fdf90209-0edc-4319-8b7b-6d4ba8cf9be3"
      },
      "outputs": [
        {
          "name": "stdout",
          "output_type": "stream",
          "text": [
            "Updated target network weights.\n"
          ]
        }
      ],
      "source": [
        "def update_target_network():\n",
        "    target_model_sample.set_weights(model_sample.get_weights())\n",
        "    print(\"Updated target network weights.\")\n",
        "\n",
        "update_target_network()\n"
      ]
    },
    {
      "cell_type": "code",
      "execution_count": null,
      "metadata": {
        "id": "e2oX68UnRkwF"
      },
      "outputs": [],
      "source": [
        "# Function to choose an action using epsilon-greedy strategy\n",
        "# if the explore_epsilon is lesser than the random number generated, generate a random action\n",
        "\n",
        "def epsilon_greedy_action(state):\n",
        "    if isinstance(state, tuple):\n",
        "        state = state[0]\n",
        "    state_reshaped = np.array(state).reshape(1, -1)\n",
        "\n",
        "    if np.random.uniform(0, 1) > explore_epsilon:\n",
        "        return cartpole_env.action_space.sample()\n",
        "    else: #choose best action according to knowledge\n",
        "        state_reshaped = state.reshape(1, -1)  # shape: (1, 4) # implicit batch definition of size 1\n",
        "        model_q_values = model_sample.predict(state_reshaped, verbose=0)\n",
        "        return np.argmax(model_q_values[0])  # according to the model the system would benefit from taking right action here. only different to left action by a slight amount\n",
        "\n",
        "# state = cartpole_env.reset()\n",
        "# print(f\"State: {state}\") # here there is a 1*4 output for state\n",
        "# action = epsilon_greedy_action(state)\n",
        "# print(f\"Chosen action: {action}\")"
      ]
    },
    {
      "cell_type": "code",
      "execution_count": 11,
      "metadata": {
        "id": "mdaHtoW4RluZ"
      },
      "outputs": [],
      "source": [
        "from tensorflow.keras.optimizers import Adam\n",
        "model_sample.compile(optimizer=Adam(learning_rate=0.003), loss='mean_squared_error')\n"
      ]
    },
    {
      "cell_type": "code",
      "execution_count": 12,
      "metadata": {
        "colab": {
          "base_uri": "https://localhost:8080/"
        },
        "id": "SlgsTxz3Rmuu",
        "outputId": "faf994a4-64ac-4ffa-e78b-2e7054967814"
      },
      "outputs": [
        {
          "name": "stdout",
          "output_type": "stream",
          "text": [
            "----------------------------------------------------------------------------------------------------\n"
          ]
        }
      ],
      "source": [
        "#used to update the Q-values in the training stage\n",
        "def bellman_update_training(current_state, action, immediate_reward, next_state, terminated, steps_taken=None, max_steps=None):\n",
        "\n",
        "    if isinstance(current_state, tuple):\n",
        "        current_state = current_state[0]\n",
        "\n",
        "    cumulative_reward = immediate_reward # reward taken for taking action in current_state\n",
        "    priority = 1 #default priority for normal episode\n",
        "\n",
        "    #-----prioritycase2-----, give priority to bad experiences where going to the target takes alot of steps\n",
        "    # ----prioritycase3-----, give priority to bad experiences where we never reach the target but steps complete\n",
        "    #-----prioritycase4----, give priority to bad experiences where we reach sub-optimal solution but program thinks its target\n",
        "\n",
        "    #prioritycase2\n",
        "    if steps_taken is not None and max_steps is not None:\n",
        "        if steps_taken > 0.5 * max_steps:\n",
        "            priority = 2  # defining edge case\n",
        "\n",
        "    #prioritycase3\n",
        "    if terminated and steps_taken < max_steps * 0.7:\n",
        "        priority = 3\n",
        "\n",
        "    #prioritycase4\n",
        "    if not terminated and immediate_reward<1:\n",
        "        priority = 4\n",
        "\n",
        "    # print(f\"Designated Priority: {priority}\")\n",
        "\n",
        "    # updating target if epsiode is not terminated\n",
        "    if not terminated:\n",
        "        next_state_reshaped = next_state.reshape(1, -1)\n",
        "        next_q_values = target_model_sample.predict(next_state_reshaped,verbose=0)\n",
        "        cumulative_reward = immediate_reward + discount_factor * np.max(next_q_values[0]) # target is updated to be this\n",
        "\n",
        "    state_reshaped = current_state.reshape(1, -1)\n",
        "    q_values = model_sample.predict(state_reshaped, verbose=0) # expected future rewards from current state\n",
        "    # print(f\"Q-values before update: {q_values}\")\n",
        "\n",
        "    if priority == 1:\n",
        "       learning_value = 0.1\n",
        "\n",
        "    elif priority == 2:\n",
        "        learning_value = 0.2\n",
        "\n",
        "    elif priority == 3:\n",
        "        learning_value = 0.5\n",
        "\n",
        "    elif priority == 4:\n",
        "        learning_value = 0.8\n",
        "\n",
        "    q_values[0][action] = (1 - learning_value) * q_values[0][action] + learning_value * cumulative_reward\n",
        "\n",
        "    model_sample.fit(state_reshaped, q_values, verbose=0) #train model on updated q value\n",
        "\n",
        "    q_values_updated = model_sample.predict(state_reshaped, verbose=0)\n",
        "    # print(f\"Q-values after update: {q_values_updated}\")\n",
        "\n",
        "    return priority\n",
        "\n",
        "current_state = np.array([0.2, 0.1, 0.0, 0.0])\n",
        "next_state = np.array([0.3, 0.1, 0.0, 0.0])\n",
        "steps_taken = 10\n",
        "max_steps = 2000\n",
        "immediate_reward = 1\n",
        "terminated = False\n",
        "priority = bellman_update_training(current_state, 1, immediate_reward, next_state, terminated, steps_taken=steps_taken, max_steps=max_steps)\n",
        "print('-' * 100)\n",
        "\n",
        "#we can test with different parameters to this function to see how priority changes\n",
        "\n"
      ]
    },
    {
      "cell_type": "code",
      "execution_count": 13,
      "metadata": {
        "id": "HFHnflg2RoeR"
      },
      "outputs": [],
      "source": [
        "#this function is used to train the neural network overall.\n",
        "# used to show program how to update the states, take actions and reset.\n",
        "# tracking the performance so it can be plotted using graphs\n",
        "import pandas as pd\n",
        "import torch\n",
        "\n",
        "rewards_df = pd.DataFrame(columns=['Repetition', 'Episode', 'Total Reward','Q Value Before', 'Q Value After','Priority'])\n",
        "\n",
        "def get_q_value(state, action):\n",
        "    state_array = np.array(state).reshape(1, -1)\n",
        "    q_values = model_sample.predict(state_array, verbose=0)\n",
        "    return q_values[0][action]\n",
        "\n",
        "def overall_training_neural_network(repetition):\n",
        "    global explore_epsilon\n",
        "    rewards_per_episode = []\n",
        "\n",
        "    for episode in range(num_episodes):\n",
        "        state = cartpole_env.reset()  # Reset environment to get initial state for each episode beginning\n",
        "        cumulative_reward = 0 # keeps track of cumulative reward accumulated in an episode\n",
        "        steps_taken = 0 # keeps track of number of steps taken in an episode\n",
        "        terminated = False #indicates program whether an episode or run has ended\n",
        "        truncated = False\n",
        "\n",
        "        while not terminated:\n",
        "            action = epsilon_greedy_action(state)  # Select action using epsilon-greedy function we defined\n",
        "            next_state, immediate_reward, terminated, info = cartpole_env.step(action)  # Take action in the environment\n",
        "\n",
        "            add_episode_to_buffer(state, action, immediate_reward, next_state, terminated)\n",
        "\n",
        "            if storage_in_buffer():\n",
        "                batch = sampling_batch()\n",
        "                q_value_before = None\n",
        "                q_value_after = None\n",
        "                for sample in batch:\n",
        "                    current_state, action, immediate_reward, next_state, terminated = sample\n",
        "                    q_value_before = get_q_value(current_state, action)\n",
        "                    bellman_update_training(state, action, immediate_reward, next_state, terminated, steps_taken=steps_taken, max_steps=2000)  # Update Q-values using bellman function defined\n",
        "                    q_value_after = get_q_value(current_state, action)\n",
        "\n",
        "                rewards_df.loc[len(rewards_df)] = [repetition + 1, episode + 1, cumulative_reward, q_value_before, q_value_after, 1]\n",
        "\n",
        "            state = next_state\n",
        "            cumulative_reward += immediate_reward\n",
        "            steps_taken += 1\n",
        "\n",
        "        # Decay epsilon (exploration rate) after each episode\n",
        "        explore_epsilon = max(maximum_epsilon, explore_epsilon * epsilon_decay)\n",
        "\n",
        "        rewards_per_episode.append(cumulative_reward)\n",
        "\n",
        "        if episode%10 == 0:\n",
        "          update_target_network()\n",
        "\n",
        "        print(f\"Repetition {repetition + 1}, Episode {episode + 1} Priority: {priority}\")\n",
        "\n",
        "    return rewards_per_episode\n",
        "\n",
        "# k = overall_training_neural_network()\n",
        "# print(k)\n"
      ]
    },
    {
      "cell_type": "code",
      "execution_count": 14,
      "metadata": {
        "colab": {
          "base_uri": "https://localhost:8080/"
        },
        "id": "iMBLQK8aRpsu",
        "outputId": "7c988c9e-4f73-4dbc-d82a-8e2b20f0afe7"
      },
      "outputs": [
        {
          "name": "stderr",
          "output_type": "stream",
          "text": [
            "c:\\Users\\mrnal\\anaconda3\\envs\\final_tensor_env\\Lib\\site-packages\\gym\\utils\\passive_env_checker.py:241: DeprecationWarning: `np.bool8` is a deprecated alias for `np.bool_`.  (Deprecated NumPy 1.24)\n",
            "  if not isinstance(terminated, (bool, np.bool8)):\n"
          ]
        },
        {
          "name": "stdout",
          "output_type": "stream",
          "text": [
            "Updated target network weights.\n",
            "Repetition 1, Episode 1 Priority: 1\n",
            "Repetition 1, Episode 2 Priority: 1\n",
            "Repetition 1, Episode 3 Priority: 1\n",
            "Repetition 1, Episode 4 Priority: 1\n",
            "Repetition 1, Episode 5 Priority: 1\n",
            "Repetition 1, Episode 6 Priority: 1\n"
          ]
        },
        {
          "name": "stderr",
          "output_type": "stream",
          "text": [
            "c:\\Users\\mrnal\\anaconda3\\envs\\final_tensor_env\\Lib\\site-packages\\gym\\envs\\classic_control\\cartpole.py:179: UserWarning: \u001b[33mWARN: You are calling 'step()' even though this environment has already returned terminated = True. You should always call 'reset()' once you receive 'terminated = True' -- any further steps are undefined behavior.\u001b[0m\n",
            "  logger.warn(\n"
          ]
        },
        {
          "name": "stdout",
          "output_type": "stream",
          "text": [
            "Repetition 1, Episode 7 Priority: 1\n",
            "Repetition 1, Episode 8 Priority: 1\n",
            "Repetition 1, Episode 9 Priority: 1\n"
          ]
        },
        {
          "name": "stderr",
          "output_type": "stream",
          "text": [
            "c:\\Users\\mrnal\\anaconda3\\envs\\final_tensor_env\\Lib\\site-packages\\gym\\envs\\classic_control\\cartpole.py:179: UserWarning: \u001b[33mWARN: You are calling 'step()' even though this environment has already returned terminated = True. You should always call 'reset()' once you receive 'terminated = True' -- any further steps are undefined behavior.\u001b[0m\n",
            "  logger.warn(\n"
          ]
        },
        {
          "name": "stdout",
          "output_type": "stream",
          "text": [
            "Repetition 1, Episode 10 Priority: 1\n",
            "Updated target network weights.\n",
            "Repetition 1, Episode 11 Priority: 1\n",
            "Repetition 1, Episode 12 Priority: 1\n"
          ]
        },
        {
          "name": "stderr",
          "output_type": "stream",
          "text": [
            "c:\\Users\\mrnal\\anaconda3\\envs\\final_tensor_env\\Lib\\site-packages\\gym\\envs\\classic_control\\cartpole.py:179: UserWarning: \u001b[33mWARN: You are calling 'step()' even though this environment has already returned terminated = True. You should always call 'reset()' once you receive 'terminated = True' -- any further steps are undefined behavior.\u001b[0m\n",
            "  logger.warn(\n"
          ]
        },
        {
          "name": "stdout",
          "output_type": "stream",
          "text": [
            "Repetition 1, Episode 13 Priority: 1\n",
            "Repetition 1, Episode 14 Priority: 1\n",
            "Repetition 1, Episode 15 Priority: 1\n",
            "Repetition 1, Episode 16 Priority: 1\n",
            "Repetition 1, Episode 17 Priority: 1\n"
          ]
        },
        {
          "name": "stderr",
          "output_type": "stream",
          "text": [
            "c:\\Users\\mrnal\\anaconda3\\envs\\final_tensor_env\\Lib\\site-packages\\gym\\envs\\classic_control\\cartpole.py:179: UserWarning: \u001b[33mWARN: You are calling 'step()' even though this environment has already returned terminated = True. You should always call 'reset()' once you receive 'terminated = True' -- any further steps are undefined behavior.\u001b[0m\n",
            "  logger.warn(\n"
          ]
        },
        {
          "name": "stdout",
          "output_type": "stream",
          "text": [
            "Repetition 1, Episode 18 Priority: 1\n"
          ]
        },
        {
          "name": "stderr",
          "output_type": "stream",
          "text": [
            "c:\\Users\\mrnal\\anaconda3\\envs\\final_tensor_env\\Lib\\site-packages\\gym\\envs\\classic_control\\cartpole.py:179: UserWarning: \u001b[33mWARN: You are calling 'step()' even though this environment has already returned terminated = True. You should always call 'reset()' once you receive 'terminated = True' -- any further steps are undefined behavior.\u001b[0m\n",
            "  logger.warn(\n"
          ]
        },
        {
          "name": "stdout",
          "output_type": "stream",
          "text": [
            "Repetition 1, Episode 19 Priority: 1\n",
            "Repetition 1, Episode 20 Priority: 1\n",
            "Updated target network weights.\n",
            "Repetition 1, Episode 21 Priority: 1\n",
            "Repetition 1, Episode 22 Priority: 1\n",
            "Repetition 1, Episode 23 Priority: 1\n",
            "Repetition 1, Episode 24 Priority: 1\n"
          ]
        },
        {
          "name": "stderr",
          "output_type": "stream",
          "text": [
            "c:\\Users\\mrnal\\anaconda3\\envs\\final_tensor_env\\Lib\\site-packages\\gym\\envs\\classic_control\\cartpole.py:179: UserWarning: \u001b[33mWARN: You are calling 'step()' even though this environment has already returned terminated = True. You should always call 'reset()' once you receive 'terminated = True' -- any further steps are undefined behavior.\u001b[0m\n",
            "  logger.warn(\n"
          ]
        },
        {
          "name": "stdout",
          "output_type": "stream",
          "text": [
            "Repetition 1, Episode 25 Priority: 1\n",
            "Repetition 1, Episode 26 Priority: 1\n",
            "Repetition 1, Episode 27 Priority: 1\n",
            "Repetition 1, Episode 28 Priority: 1\n",
            "Repetition 1, Episode 29 Priority: 1\n",
            "Repetition 1, Episode 30 Priority: 1\n",
            "Updated target network weights.\n",
            "Repetition 1, Episode 31 Priority: 1\n",
            "Repetition 1, Episode 32 Priority: 1\n",
            "Repetition 1, Episode 33 Priority: 1\n",
            "Repetition 1, Episode 34 Priority: 1\n",
            "Repetition 1, Episode 35 Priority: 1\n"
          ]
        },
        {
          "name": "stderr",
          "output_type": "stream",
          "text": [
            "c:\\Users\\mrnal\\anaconda3\\envs\\final_tensor_env\\Lib\\site-packages\\gym\\envs\\classic_control\\cartpole.py:179: UserWarning: \u001b[33mWARN: You are calling 'step()' even though this environment has already returned terminated = True. You should always call 'reset()' once you receive 'terminated = True' -- any further steps are undefined behavior.\u001b[0m\n",
            "  logger.warn(\n"
          ]
        },
        {
          "name": "stdout",
          "output_type": "stream",
          "text": [
            "Repetition 1, Episode 36 Priority: 1\n",
            "Repetition 1, Episode 37 Priority: 1\n",
            "Repetition 1, Episode 38 Priority: 1\n"
          ]
        },
        {
          "name": "stderr",
          "output_type": "stream",
          "text": [
            "c:\\Users\\mrnal\\anaconda3\\envs\\final_tensor_env\\Lib\\site-packages\\gym\\envs\\classic_control\\cartpole.py:179: UserWarning: \u001b[33mWARN: You are calling 'step()' even though this environment has already returned terminated = True. You should always call 'reset()' once you receive 'terminated = True' -- any further steps are undefined behavior.\u001b[0m\n",
            "  logger.warn(\n"
          ]
        },
        {
          "name": "stdout",
          "output_type": "stream",
          "text": [
            "Repetition 1, Episode 39 Priority: 1\n"
          ]
        },
        {
          "name": "stderr",
          "output_type": "stream",
          "text": [
            "c:\\Users\\mrnal\\anaconda3\\envs\\final_tensor_env\\Lib\\site-packages\\gym\\envs\\classic_control\\cartpole.py:179: UserWarning: \u001b[33mWARN: You are calling 'step()' even though this environment has already returned terminated = True. You should always call 'reset()' once you receive 'terminated = True' -- any further steps are undefined behavior.\u001b[0m\n",
            "  logger.warn(\n"
          ]
        },
        {
          "name": "stdout",
          "output_type": "stream",
          "text": [
            "Repetition 1, Episode 40 Priority: 1\n",
            "Updated target network weights.\n",
            "Repetition 1, Episode 41 Priority: 1\n",
            "Repetition 1, Episode 42 Priority: 1\n",
            "Repetition 1, Episode 43 Priority: 1\n",
            "Repetition 1, Episode 44 Priority: 1\n",
            "Repetition 1, Episode 45 Priority: 1\n"
          ]
        },
        {
          "name": "stderr",
          "output_type": "stream",
          "text": [
            "c:\\Users\\mrnal\\anaconda3\\envs\\final_tensor_env\\Lib\\site-packages\\gym\\envs\\classic_control\\cartpole.py:179: UserWarning: \u001b[33mWARN: You are calling 'step()' even though this environment has already returned terminated = True. You should always call 'reset()' once you receive 'terminated = True' -- any further steps are undefined behavior.\u001b[0m\n",
            "  logger.warn(\n"
          ]
        },
        {
          "name": "stdout",
          "output_type": "stream",
          "text": [
            "Repetition 1, Episode 46 Priority: 1\n",
            "Repetition 1, Episode 47 Priority: 1\n",
            "Repetition 1, Episode 48 Priority: 1\n",
            "Repetition 1, Episode 49 Priority: 1\n",
            "Repetition 1, Episode 50 Priority: 1\n"
          ]
        },
        {
          "name": "stderr",
          "output_type": "stream",
          "text": [
            "c:\\Users\\mrnal\\anaconda3\\envs\\final_tensor_env\\Lib\\site-packages\\gym\\envs\\classic_control\\cartpole.py:179: UserWarning: \u001b[33mWARN: You are calling 'step()' even though this environment has already returned terminated = True. You should always call 'reset()' once you receive 'terminated = True' -- any further steps are undefined behavior.\u001b[0m\n",
            "  logger.warn(\n"
          ]
        },
        {
          "name": "stdout",
          "output_type": "stream",
          "text": [
            "Updated target network weights.\n",
            "Repetition 1, Episode 51 Priority: 1\n",
            "Repetition 1, Episode 52 Priority: 1\n",
            "Repetition 1, Episode 53 Priority: 1\n",
            "Repetition 1, Episode 54 Priority: 1\n",
            "Repetition 1, Episode 55 Priority: 1\n",
            "Repetition 1, Episode 56 Priority: 1\n",
            "Repetition 1, Episode 57 Priority: 1\n",
            "Repetition 1, Episode 58 Priority: 1\n",
            "Repetition 1, Episode 59 Priority: 1\n",
            "Repetition 1, Episode 60 Priority: 1\n",
            "Updated target network weights.\n",
            "Repetition 1, Episode 61 Priority: 1\n",
            "Repetition 1, Episode 62 Priority: 1\n",
            "Repetition 1, Episode 63 Priority: 1\n",
            "Repetition 1, Episode 64 Priority: 1\n"
          ]
        },
        {
          "name": "stderr",
          "output_type": "stream",
          "text": [
            "c:\\Users\\mrnal\\anaconda3\\envs\\final_tensor_env\\Lib\\site-packages\\gym\\envs\\classic_control\\cartpole.py:179: UserWarning: \u001b[33mWARN: You are calling 'step()' even though this environment has already returned terminated = True. You should always call 'reset()' once you receive 'terminated = True' -- any further steps are undefined behavior.\u001b[0m\n",
            "  logger.warn(\n"
          ]
        },
        {
          "name": "stdout",
          "output_type": "stream",
          "text": [
            "Repetition 1, Episode 65 Priority: 1\n",
            "Repetition 1, Episode 66 Priority: 1\n"
          ]
        },
        {
          "name": "stderr",
          "output_type": "stream",
          "text": [
            "c:\\Users\\mrnal\\anaconda3\\envs\\final_tensor_env\\Lib\\site-packages\\gym\\envs\\classic_control\\cartpole.py:179: UserWarning: \u001b[33mWARN: You are calling 'step()' even though this environment has already returned terminated = True. You should always call 'reset()' once you receive 'terminated = True' -- any further steps are undefined behavior.\u001b[0m\n",
            "  logger.warn(\n"
          ]
        },
        {
          "name": "stdout",
          "output_type": "stream",
          "text": [
            "Repetition 1, Episode 67 Priority: 1\n",
            "Repetition 1, Episode 68 Priority: 1\n",
            "Repetition 1, Episode 69 Priority: 1\n",
            "Repetition 1, Episode 70 Priority: 1\n",
            "Updated target network weights.\n",
            "Repetition 1, Episode 71 Priority: 1\n",
            "Repetition 1, Episode 72 Priority: 1\n",
            "Repetition 1, Episode 73 Priority: 1\n",
            "Repetition 1, Episode 74 Priority: 1\n",
            "Repetition 1, Episode 75 Priority: 1\n"
          ]
        },
        {
          "name": "stderr",
          "output_type": "stream",
          "text": [
            "c:\\Users\\mrnal\\anaconda3\\envs\\final_tensor_env\\Lib\\site-packages\\gym\\envs\\classic_control\\cartpole.py:179: UserWarning: \u001b[33mWARN: You are calling 'step()' even though this environment has already returned terminated = True. You should always call 'reset()' once you receive 'terminated = True' -- any further steps are undefined behavior.\u001b[0m\n",
            "  logger.warn(\n"
          ]
        },
        {
          "name": "stdout",
          "output_type": "stream",
          "text": [
            "Repetition 1, Episode 76 Priority: 1\n",
            "Repetition 1, Episode 77 Priority: 1\n",
            "Repetition 1, Episode 78 Priority: 1\n",
            "Repetition 1, Episode 79 Priority: 1\n",
            "Repetition 1, Episode 80 Priority: 1\n",
            "Updated target network weights.\n",
            "Repetition 1, Episode 81 Priority: 1\n",
            "Repetition 1, Episode 82 Priority: 1\n"
          ]
        },
        {
          "name": "stderr",
          "output_type": "stream",
          "text": [
            "c:\\Users\\mrnal\\anaconda3\\envs\\final_tensor_env\\Lib\\site-packages\\gym\\envs\\classic_control\\cartpole.py:179: UserWarning: \u001b[33mWARN: You are calling 'step()' even though this environment has already returned terminated = True. You should always call 'reset()' once you receive 'terminated = True' -- any further steps are undefined behavior.\u001b[0m\n",
            "  logger.warn(\n"
          ]
        },
        {
          "name": "stdout",
          "output_type": "stream",
          "text": [
            "Repetition 1, Episode 83 Priority: 1\n",
            "Repetition 1, Episode 84 Priority: 1\n",
            "Repetition 1, Episode 85 Priority: 1\n",
            "Repetition 1, Episode 86 Priority: 1\n"
          ]
        },
        {
          "name": "stderr",
          "output_type": "stream",
          "text": [
            "c:\\Users\\mrnal\\anaconda3\\envs\\final_tensor_env\\Lib\\site-packages\\gym\\envs\\classic_control\\cartpole.py:179: UserWarning: \u001b[33mWARN: You are calling 'step()' even though this environment has already returned terminated = True. You should always call 'reset()' once you receive 'terminated = True' -- any further steps are undefined behavior.\u001b[0m\n",
            "  logger.warn(\n"
          ]
        },
        {
          "name": "stdout",
          "output_type": "stream",
          "text": [
            "Repetition 1, Episode 87 Priority: 1\n",
            "Repetition 1, Episode 88 Priority: 1\n",
            "Repetition 1, Episode 89 Priority: 1\n",
            "Repetition 1, Episode 90 Priority: 1\n",
            "Updated target network weights.\n",
            "Repetition 1, Episode 91 Priority: 1\n",
            "Repetition 1, Episode 92 Priority: 1\n",
            "Repetition 1, Episode 93 Priority: 1\n",
            "Repetition 1, Episode 94 Priority: 1\n"
          ]
        },
        {
          "name": "stderr",
          "output_type": "stream",
          "text": [
            "c:\\Users\\mrnal\\anaconda3\\envs\\final_tensor_env\\Lib\\site-packages\\gym\\envs\\classic_control\\cartpole.py:179: UserWarning: \u001b[33mWARN: You are calling 'step()' even though this environment has already returned terminated = True. You should always call 'reset()' once you receive 'terminated = True' -- any further steps are undefined behavior.\u001b[0m\n",
            "  logger.warn(\n"
          ]
        },
        {
          "name": "stdout",
          "output_type": "stream",
          "text": [
            "Repetition 1, Episode 95 Priority: 1\n",
            "Repetition 1, Episode 96 Priority: 1\n"
          ]
        },
        {
          "name": "stderr",
          "output_type": "stream",
          "text": [
            "c:\\Users\\mrnal\\anaconda3\\envs\\final_tensor_env\\Lib\\site-packages\\gym\\envs\\classic_control\\cartpole.py:179: UserWarning: \u001b[33mWARN: You are calling 'step()' even though this environment has already returned terminated = True. You should always call 'reset()' once you receive 'terminated = True' -- any further steps are undefined behavior.\u001b[0m\n",
            "  logger.warn(\n"
          ]
        },
        {
          "name": "stdout",
          "output_type": "stream",
          "text": [
            "Repetition 1, Episode 97 Priority: 1\n"
          ]
        },
        {
          "name": "stderr",
          "output_type": "stream",
          "text": [
            "c:\\Users\\mrnal\\anaconda3\\envs\\final_tensor_env\\Lib\\site-packages\\gym\\envs\\classic_control\\cartpole.py:179: UserWarning: \u001b[33mWARN: You are calling 'step()' even though this environment has already returned terminated = True. You should always call 'reset()' once you receive 'terminated = True' -- any further steps are undefined behavior.\u001b[0m\n",
            "  logger.warn(\n"
          ]
        },
        {
          "name": "stdout",
          "output_type": "stream",
          "text": [
            "Repetition 1, Episode 98 Priority: 1\n",
            "Repetition 1, Episode 99 Priority: 1\n",
            "Repetition 1, Episode 100 Priority: 1\n",
            "Updated target network weights.\n",
            "Repetition 2, Episode 1 Priority: 1\n",
            "Repetition 2, Episode 2 Priority: 1\n",
            "Repetition 2, Episode 3 Priority: 1\n",
            "Repetition 2, Episode 4 Priority: 1\n",
            "Repetition 2, Episode 5 Priority: 1\n",
            "Repetition 2, Episode 6 Priority: 1\n"
          ]
        },
        {
          "name": "stderr",
          "output_type": "stream",
          "text": [
            "c:\\Users\\mrnal\\anaconda3\\envs\\final_tensor_env\\Lib\\site-packages\\gym\\envs\\classic_control\\cartpole.py:179: UserWarning: \u001b[33mWARN: You are calling 'step()' even though this environment has already returned terminated = True. You should always call 'reset()' once you receive 'terminated = True' -- any further steps are undefined behavior.\u001b[0m\n",
            "  logger.warn(\n"
          ]
        },
        {
          "name": "stdout",
          "output_type": "stream",
          "text": [
            "Repetition 2, Episode 7 Priority: 1\n",
            "Repetition 2, Episode 8 Priority: 1\n",
            "Repetition 2, Episode 9 Priority: 1\n",
            "Repetition 2, Episode 10 Priority: 1\n",
            "Updated target network weights.\n",
            "Repetition 2, Episode 11 Priority: 1\n",
            "Repetition 2, Episode 12 Priority: 1\n",
            "Repetition 2, Episode 13 Priority: 1\n",
            "Repetition 2, Episode 14 Priority: 1\n"
          ]
        },
        {
          "name": "stderr",
          "output_type": "stream",
          "text": [
            "c:\\Users\\mrnal\\anaconda3\\envs\\final_tensor_env\\Lib\\site-packages\\gym\\envs\\classic_control\\cartpole.py:179: UserWarning: \u001b[33mWARN: You are calling 'step()' even though this environment has already returned terminated = True. You should always call 'reset()' once you receive 'terminated = True' -- any further steps are undefined behavior.\u001b[0m\n",
            "  logger.warn(\n"
          ]
        },
        {
          "name": "stdout",
          "output_type": "stream",
          "text": [
            "Repetition 2, Episode 15 Priority: 1\n",
            "Repetition 2, Episode 16 Priority: 1\n",
            "Repetition 2, Episode 17 Priority: 1\n",
            "Repetition 2, Episode 18 Priority: 1\n",
            "Repetition 2, Episode 19 Priority: 1\n"
          ]
        },
        {
          "name": "stderr",
          "output_type": "stream",
          "text": [
            "c:\\Users\\mrnal\\anaconda3\\envs\\final_tensor_env\\Lib\\site-packages\\gym\\envs\\classic_control\\cartpole.py:179: UserWarning: \u001b[33mWARN: You are calling 'step()' even though this environment has already returned terminated = True. You should always call 'reset()' once you receive 'terminated = True' -- any further steps are undefined behavior.\u001b[0m\n",
            "  logger.warn(\n"
          ]
        },
        {
          "name": "stdout",
          "output_type": "stream",
          "text": [
            "Repetition 2, Episode 20 Priority: 1\n",
            "Updated target network weights.\n",
            "Repetition 2, Episode 21 Priority: 1\n",
            "Repetition 2, Episode 22 Priority: 1\n",
            "Repetition 2, Episode 23 Priority: 1\n",
            "Repetition 2, Episode 24 Priority: 1\n",
            "Repetition 2, Episode 25 Priority: 1\n",
            "Repetition 2, Episode 26 Priority: 1\n",
            "Repetition 2, Episode 27 Priority: 1\n",
            "Repetition 2, Episode 28 Priority: 1\n",
            "Repetition 2, Episode 29 Priority: 1\n",
            "Repetition 2, Episode 30 Priority: 1\n",
            "Updated target network weights.\n",
            "Repetition 2, Episode 31 Priority: 1\n",
            "Repetition 2, Episode 32 Priority: 1\n",
            "Repetition 2, Episode 33 Priority: 1\n",
            "Repetition 2, Episode 34 Priority: 1\n",
            "Repetition 2, Episode 35 Priority: 1\n",
            "Repetition 2, Episode 36 Priority: 1\n",
            "Repetition 2, Episode 37 Priority: 1\n",
            "Repetition 2, Episode 38 Priority: 1\n"
          ]
        },
        {
          "name": "stderr",
          "output_type": "stream",
          "text": [
            "c:\\Users\\mrnal\\anaconda3\\envs\\final_tensor_env\\Lib\\site-packages\\gym\\envs\\classic_control\\cartpole.py:179: UserWarning: \u001b[33mWARN: You are calling 'step()' even though this environment has already returned terminated = True. You should always call 'reset()' once you receive 'terminated = True' -- any further steps are undefined behavior.\u001b[0m\n",
            "  logger.warn(\n"
          ]
        },
        {
          "name": "stdout",
          "output_type": "stream",
          "text": [
            "Repetition 2, Episode 39 Priority: 1\n",
            "Repetition 2, Episode 40 Priority: 1\n",
            "Updated target network weights.\n",
            "Repetition 2, Episode 41 Priority: 1\n",
            "Repetition 2, Episode 42 Priority: 1\n",
            "Repetition 2, Episode 43 Priority: 1\n",
            "Repetition 2, Episode 44 Priority: 1\n",
            "Repetition 2, Episode 45 Priority: 1\n",
            "Repetition 2, Episode 46 Priority: 1\n",
            "Repetition 2, Episode 47 Priority: 1\n"
          ]
        },
        {
          "name": "stderr",
          "output_type": "stream",
          "text": [
            "c:\\Users\\mrnal\\anaconda3\\envs\\final_tensor_env\\Lib\\site-packages\\gym\\envs\\classic_control\\cartpole.py:179: UserWarning: \u001b[33mWARN: You are calling 'step()' even though this environment has already returned terminated = True. You should always call 'reset()' once you receive 'terminated = True' -- any further steps are undefined behavior.\u001b[0m\n",
            "  logger.warn(\n"
          ]
        },
        {
          "name": "stdout",
          "output_type": "stream",
          "text": [
            "Repetition 2, Episode 48 Priority: 1\n",
            "Repetition 2, Episode 49 Priority: 1\n",
            "Repetition 2, Episode 50 Priority: 1\n",
            "Updated target network weights.\n",
            "Repetition 2, Episode 51 Priority: 1\n",
            "Repetition 2, Episode 52 Priority: 1\n"
          ]
        },
        {
          "name": "stderr",
          "output_type": "stream",
          "text": [
            "c:\\Users\\mrnal\\anaconda3\\envs\\final_tensor_env\\Lib\\site-packages\\gym\\envs\\classic_control\\cartpole.py:179: UserWarning: \u001b[33mWARN: You are calling 'step()' even though this environment has already returned terminated = True. You should always call 'reset()' once you receive 'terminated = True' -- any further steps are undefined behavior.\u001b[0m\n",
            "  logger.warn(\n"
          ]
        },
        {
          "name": "stdout",
          "output_type": "stream",
          "text": [
            "Repetition 2, Episode 53 Priority: 1\n",
            "Repetition 2, Episode 54 Priority: 1\n",
            "Repetition 2, Episode 55 Priority: 1\n"
          ]
        },
        {
          "name": "stderr",
          "output_type": "stream",
          "text": [
            "c:\\Users\\mrnal\\anaconda3\\envs\\final_tensor_env\\Lib\\site-packages\\gym\\envs\\classic_control\\cartpole.py:179: UserWarning: \u001b[33mWARN: You are calling 'step()' even though this environment has already returned terminated = True. You should always call 'reset()' once you receive 'terminated = True' -- any further steps are undefined behavior.\u001b[0m\n",
            "  logger.warn(\n"
          ]
        },
        {
          "name": "stdout",
          "output_type": "stream",
          "text": [
            "Repetition 2, Episode 56 Priority: 1\n",
            "Repetition 2, Episode 57 Priority: 1\n",
            "Repetition 2, Episode 58 Priority: 1\n",
            "Repetition 2, Episode 59 Priority: 1\n"
          ]
        },
        {
          "name": "stderr",
          "output_type": "stream",
          "text": [
            "c:\\Users\\mrnal\\anaconda3\\envs\\final_tensor_env\\Lib\\site-packages\\gym\\envs\\classic_control\\cartpole.py:179: UserWarning: \u001b[33mWARN: You are calling 'step()' even though this environment has already returned terminated = True. You should always call 'reset()' once you receive 'terminated = True' -- any further steps are undefined behavior.\u001b[0m\n",
            "  logger.warn(\n"
          ]
        },
        {
          "name": "stdout",
          "output_type": "stream",
          "text": [
            "Repetition 2, Episode 60 Priority: 1\n",
            "Updated target network weights.\n",
            "Repetition 2, Episode 61 Priority: 1\n",
            "Repetition 2, Episode 62 Priority: 1\n",
            "Repetition 2, Episode 63 Priority: 1\n"
          ]
        },
        {
          "name": "stderr",
          "output_type": "stream",
          "text": [
            "c:\\Users\\mrnal\\anaconda3\\envs\\final_tensor_env\\Lib\\site-packages\\gym\\envs\\classic_control\\cartpole.py:179: UserWarning: \u001b[33mWARN: You are calling 'step()' even though this environment has already returned terminated = True. You should always call 'reset()' once you receive 'terminated = True' -- any further steps are undefined behavior.\u001b[0m\n",
            "  logger.warn(\n"
          ]
        },
        {
          "name": "stdout",
          "output_type": "stream",
          "text": [
            "Repetition 2, Episode 64 Priority: 1\n",
            "Repetition 2, Episode 65 Priority: 1\n",
            "Repetition 2, Episode 66 Priority: 1\n",
            "Repetition 2, Episode 67 Priority: 1\n",
            "Repetition 2, Episode 68 Priority: 1\n",
            "Repetition 2, Episode 69 Priority: 1\n",
            "Repetition 2, Episode 70 Priority: 1\n"
          ]
        },
        {
          "name": "stderr",
          "output_type": "stream",
          "text": [
            "c:\\Users\\mrnal\\anaconda3\\envs\\final_tensor_env\\Lib\\site-packages\\gym\\envs\\classic_control\\cartpole.py:179: UserWarning: \u001b[33mWARN: You are calling 'step()' even though this environment has already returned terminated = True. You should always call 'reset()' once you receive 'terminated = True' -- any further steps are undefined behavior.\u001b[0m\n",
            "  logger.warn(\n"
          ]
        },
        {
          "name": "stdout",
          "output_type": "stream",
          "text": [
            "Updated target network weights.\n",
            "Repetition 2, Episode 71 Priority: 1\n"
          ]
        },
        {
          "name": "stderr",
          "output_type": "stream",
          "text": [
            "c:\\Users\\mrnal\\anaconda3\\envs\\final_tensor_env\\Lib\\site-packages\\gym\\envs\\classic_control\\cartpole.py:179: UserWarning: \u001b[33mWARN: You are calling 'step()' even though this environment has already returned terminated = True. You should always call 'reset()' once you receive 'terminated = True' -- any further steps are undefined behavior.\u001b[0m\n",
            "  logger.warn(\n"
          ]
        },
        {
          "name": "stdout",
          "output_type": "stream",
          "text": [
            "Repetition 2, Episode 72 Priority: 1\n",
            "Repetition 2, Episode 73 Priority: 1\n"
          ]
        },
        {
          "name": "stderr",
          "output_type": "stream",
          "text": [
            "c:\\Users\\mrnal\\anaconda3\\envs\\final_tensor_env\\Lib\\site-packages\\gym\\envs\\classic_control\\cartpole.py:179: UserWarning: \u001b[33mWARN: You are calling 'step()' even though this environment has already returned terminated = True. You should always call 'reset()' once you receive 'terminated = True' -- any further steps are undefined behavior.\u001b[0m\n",
            "  logger.warn(\n"
          ]
        },
        {
          "name": "stdout",
          "output_type": "stream",
          "text": [
            "Repetition 2, Episode 74 Priority: 1\n",
            "Repetition 2, Episode 75 Priority: 1\n",
            "Repetition 2, Episode 76 Priority: 1\n",
            "Repetition 2, Episode 77 Priority: 1\n",
            "Repetition 2, Episode 78 Priority: 1\n",
            "Repetition 2, Episode 79 Priority: 1\n",
            "Repetition 2, Episode 80 Priority: 1\n"
          ]
        },
        {
          "name": "stderr",
          "output_type": "stream",
          "text": [
            "c:\\Users\\mrnal\\anaconda3\\envs\\final_tensor_env\\Lib\\site-packages\\gym\\envs\\classic_control\\cartpole.py:179: UserWarning: \u001b[33mWARN: You are calling 'step()' even though this environment has already returned terminated = True. You should always call 'reset()' once you receive 'terminated = True' -- any further steps are undefined behavior.\u001b[0m\n",
            "  logger.warn(\n"
          ]
        },
        {
          "name": "stdout",
          "output_type": "stream",
          "text": [
            "Updated target network weights.\n",
            "Repetition 2, Episode 81 Priority: 1\n",
            "Repetition 2, Episode 82 Priority: 1\n",
            "Repetition 2, Episode 83 Priority: 1\n",
            "Repetition 2, Episode 84 Priority: 1\n",
            "Repetition 2, Episode 85 Priority: 1\n",
            "Repetition 2, Episode 86 Priority: 1\n"
          ]
        },
        {
          "name": "stderr",
          "output_type": "stream",
          "text": [
            "c:\\Users\\mrnal\\anaconda3\\envs\\final_tensor_env\\Lib\\site-packages\\gym\\envs\\classic_control\\cartpole.py:179: UserWarning: \u001b[33mWARN: You are calling 'step()' even though this environment has already returned terminated = True. You should always call 'reset()' once you receive 'terminated = True' -- any further steps are undefined behavior.\u001b[0m\n",
            "  logger.warn(\n"
          ]
        },
        {
          "name": "stdout",
          "output_type": "stream",
          "text": [
            "Repetition 2, Episode 87 Priority: 1\n",
            "Repetition 2, Episode 88 Priority: 1\n"
          ]
        },
        {
          "name": "stderr",
          "output_type": "stream",
          "text": [
            "c:\\Users\\mrnal\\anaconda3\\envs\\final_tensor_env\\Lib\\site-packages\\gym\\envs\\classic_control\\cartpole.py:179: UserWarning: \u001b[33mWARN: You are calling 'step()' even though this environment has already returned terminated = True. You should always call 'reset()' once you receive 'terminated = True' -- any further steps are undefined behavior.\u001b[0m\n",
            "  logger.warn(\n"
          ]
        },
        {
          "name": "stdout",
          "output_type": "stream",
          "text": [
            "Repetition 2, Episode 89 Priority: 1\n",
            "Repetition 2, Episode 90 Priority: 1\n",
            "Updated target network weights.\n",
            "Repetition 2, Episode 91 Priority: 1\n",
            "Repetition 2, Episode 92 Priority: 1\n",
            "Repetition 2, Episode 93 Priority: 1\n",
            "Repetition 2, Episode 94 Priority: 1\n",
            "Repetition 2, Episode 95 Priority: 1\n",
            "Repetition 2, Episode 96 Priority: 1\n",
            "Repetition 2, Episode 97 Priority: 1\n",
            "Repetition 2, Episode 98 Priority: 1\n"
          ]
        },
        {
          "name": "stderr",
          "output_type": "stream",
          "text": [
            "c:\\Users\\mrnal\\anaconda3\\envs\\final_tensor_env\\Lib\\site-packages\\gym\\envs\\classic_control\\cartpole.py:179: UserWarning: \u001b[33mWARN: You are calling 'step()' even though this environment has already returned terminated = True. You should always call 'reset()' once you receive 'terminated = True' -- any further steps are undefined behavior.\u001b[0m\n",
            "  logger.warn(\n"
          ]
        },
        {
          "name": "stdout",
          "output_type": "stream",
          "text": [
            "Repetition 2, Episode 99 Priority: 1\n",
            "Repetition 2, Episode 100 Priority: 1\n",
            "Updated target network weights.\n",
            "Repetition 3, Episode 1 Priority: 1\n",
            "Repetition 3, Episode 2 Priority: 1\n",
            "Repetition 3, Episode 3 Priority: 1\n",
            "Repetition 3, Episode 4 Priority: 1\n",
            "Repetition 3, Episode 5 Priority: 1\n",
            "Repetition 3, Episode 6 Priority: 1\n",
            "Repetition 3, Episode 7 Priority: 1\n",
            "Repetition 3, Episode 8 Priority: 1\n"
          ]
        },
        {
          "name": "stderr",
          "output_type": "stream",
          "text": [
            "c:\\Users\\mrnal\\anaconda3\\envs\\final_tensor_env\\Lib\\site-packages\\gym\\envs\\classic_control\\cartpole.py:179: UserWarning: \u001b[33mWARN: You are calling 'step()' even though this environment has already returned terminated = True. You should always call 'reset()' once you receive 'terminated = True' -- any further steps are undefined behavior.\u001b[0m\n",
            "  logger.warn(\n"
          ]
        },
        {
          "name": "stdout",
          "output_type": "stream",
          "text": [
            "Repetition 3, Episode 9 Priority: 1\n",
            "Repetition 3, Episode 10 Priority: 1\n",
            "Updated target network weights.\n",
            "Repetition 3, Episode 11 Priority: 1\n"
          ]
        },
        {
          "name": "stderr",
          "output_type": "stream",
          "text": [
            "c:\\Users\\mrnal\\anaconda3\\envs\\final_tensor_env\\Lib\\site-packages\\gym\\envs\\classic_control\\cartpole.py:179: UserWarning: \u001b[33mWARN: You are calling 'step()' even though this environment has already returned terminated = True. You should always call 'reset()' once you receive 'terminated = True' -- any further steps are undefined behavior.\u001b[0m\n",
            "  logger.warn(\n"
          ]
        },
        {
          "name": "stdout",
          "output_type": "stream",
          "text": [
            "Repetition 3, Episode 12 Priority: 1\n",
            "Repetition 3, Episode 13 Priority: 1\n",
            "Repetition 3, Episode 14 Priority: 1\n",
            "Repetition 3, Episode 15 Priority: 1\n",
            "Repetition 3, Episode 16 Priority: 1\n",
            "Repetition 3, Episode 17 Priority: 1\n",
            "Repetition 3, Episode 18 Priority: 1\n",
            "Repetition 3, Episode 19 Priority: 1\n",
            "Repetition 3, Episode 20 Priority: 1\n",
            "Updated target network weights.\n",
            "Repetition 3, Episode 21 Priority: 1\n",
            "Repetition 3, Episode 22 Priority: 1\n",
            "Repetition 3, Episode 23 Priority: 1\n",
            "Repetition 3, Episode 24 Priority: 1\n",
            "Repetition 3, Episode 25 Priority: 1\n"
          ]
        },
        {
          "name": "stderr",
          "output_type": "stream",
          "text": [
            "c:\\Users\\mrnal\\anaconda3\\envs\\final_tensor_env\\Lib\\site-packages\\gym\\envs\\classic_control\\cartpole.py:179: UserWarning: \u001b[33mWARN: You are calling 'step()' even though this environment has already returned terminated = True. You should always call 'reset()' once you receive 'terminated = True' -- any further steps are undefined behavior.\u001b[0m\n",
            "  logger.warn(\n"
          ]
        },
        {
          "name": "stdout",
          "output_type": "stream",
          "text": [
            "Repetition 3, Episode 26 Priority: 1\n",
            "Repetition 3, Episode 27 Priority: 1\n",
            "Repetition 3, Episode 28 Priority: 1\n",
            "Repetition 3, Episode 29 Priority: 1\n",
            "Repetition 3, Episode 30 Priority: 1\n",
            "Updated target network weights.\n",
            "Repetition 3, Episode 31 Priority: 1\n",
            "Repetition 3, Episode 32 Priority: 1\n",
            "Repetition 3, Episode 33 Priority: 1\n",
            "Repetition 3, Episode 34 Priority: 1\n",
            "Repetition 3, Episode 35 Priority: 1\n",
            "Repetition 3, Episode 36 Priority: 1\n",
            "Repetition 3, Episode 37 Priority: 1\n"
          ]
        },
        {
          "name": "stderr",
          "output_type": "stream",
          "text": [
            "c:\\Users\\mrnal\\anaconda3\\envs\\final_tensor_env\\Lib\\site-packages\\gym\\envs\\classic_control\\cartpole.py:179: UserWarning: \u001b[33mWARN: You are calling 'step()' even though this environment has already returned terminated = True. You should always call 'reset()' once you receive 'terminated = True' -- any further steps are undefined behavior.\u001b[0m\n",
            "  logger.warn(\n"
          ]
        },
        {
          "name": "stdout",
          "output_type": "stream",
          "text": [
            "Repetition 3, Episode 38 Priority: 1\n",
            "Repetition 3, Episode 39 Priority: 1\n",
            "Repetition 3, Episode 40 Priority: 1\n",
            "Updated target network weights.\n",
            "Repetition 3, Episode 41 Priority: 1\n"
          ]
        },
        {
          "name": "stderr",
          "output_type": "stream",
          "text": [
            "c:\\Users\\mrnal\\anaconda3\\envs\\final_tensor_env\\Lib\\site-packages\\gym\\envs\\classic_control\\cartpole.py:179: UserWarning: \u001b[33mWARN: You are calling 'step()' even though this environment has already returned terminated = True. You should always call 'reset()' once you receive 'terminated = True' -- any further steps are undefined behavior.\u001b[0m\n",
            "  logger.warn(\n"
          ]
        },
        {
          "name": "stdout",
          "output_type": "stream",
          "text": [
            "Repetition 3, Episode 42 Priority: 1\n"
          ]
        },
        {
          "name": "stderr",
          "output_type": "stream",
          "text": [
            "c:\\Users\\mrnal\\anaconda3\\envs\\final_tensor_env\\Lib\\site-packages\\gym\\envs\\classic_control\\cartpole.py:179: UserWarning: \u001b[33mWARN: You are calling 'step()' even though this environment has already returned terminated = True. You should always call 'reset()' once you receive 'terminated = True' -- any further steps are undefined behavior.\u001b[0m\n",
            "  logger.warn(\n"
          ]
        },
        {
          "name": "stdout",
          "output_type": "stream",
          "text": [
            "Repetition 3, Episode 43 Priority: 1\n",
            "Repetition 3, Episode 44 Priority: 1\n",
            "Repetition 3, Episode 45 Priority: 1\n",
            "Repetition 3, Episode 46 Priority: 1\n",
            "Repetition 3, Episode 47 Priority: 1\n",
            "Repetition 3, Episode 48 Priority: 1\n",
            "Repetition 3, Episode 49 Priority: 1\n",
            "Repetition 3, Episode 50 Priority: 1\n"
          ]
        },
        {
          "name": "stderr",
          "output_type": "stream",
          "text": [
            "c:\\Users\\mrnal\\anaconda3\\envs\\final_tensor_env\\Lib\\site-packages\\gym\\envs\\classic_control\\cartpole.py:179: UserWarning: \u001b[33mWARN: You are calling 'step()' even though this environment has already returned terminated = True. You should always call 'reset()' once you receive 'terminated = True' -- any further steps are undefined behavior.\u001b[0m\n",
            "  logger.warn(\n"
          ]
        },
        {
          "name": "stdout",
          "output_type": "stream",
          "text": [
            "Updated target network weights.\n",
            "Repetition 3, Episode 51 Priority: 1\n",
            "Repetition 3, Episode 52 Priority: 1\n",
            "Repetition 3, Episode 53 Priority: 1\n",
            "Repetition 3, Episode 54 Priority: 1\n",
            "Repetition 3, Episode 55 Priority: 1\n",
            "Repetition 3, Episode 56 Priority: 1\n",
            "Repetition 3, Episode 57 Priority: 1\n",
            "Repetition 3, Episode 58 Priority: 1\n",
            "Repetition 3, Episode 59 Priority: 1\n",
            "Repetition 3, Episode 60 Priority: 1\n"
          ]
        },
        {
          "name": "stderr",
          "output_type": "stream",
          "text": [
            "c:\\Users\\mrnal\\anaconda3\\envs\\final_tensor_env\\Lib\\site-packages\\gym\\envs\\classic_control\\cartpole.py:179: UserWarning: \u001b[33mWARN: You are calling 'step()' even though this environment has already returned terminated = True. You should always call 'reset()' once you receive 'terminated = True' -- any further steps are undefined behavior.\u001b[0m\n",
            "  logger.warn(\n"
          ]
        },
        {
          "name": "stdout",
          "output_type": "stream",
          "text": [
            "Updated target network weights.\n",
            "Repetition 3, Episode 61 Priority: 1\n"
          ]
        },
        {
          "name": "stderr",
          "output_type": "stream",
          "text": [
            "c:\\Users\\mrnal\\anaconda3\\envs\\final_tensor_env\\Lib\\site-packages\\gym\\envs\\classic_control\\cartpole.py:179: UserWarning: \u001b[33mWARN: You are calling 'step()' even though this environment has already returned terminated = True. You should always call 'reset()' once you receive 'terminated = True' -- any further steps are undefined behavior.\u001b[0m\n",
            "  logger.warn(\n"
          ]
        },
        {
          "name": "stdout",
          "output_type": "stream",
          "text": [
            "Repetition 3, Episode 62 Priority: 1\n",
            "Repetition 3, Episode 63 Priority: 1\n",
            "Repetition 3, Episode 64 Priority: 1\n",
            "Repetition 3, Episode 65 Priority: 1\n",
            "Repetition 3, Episode 66 Priority: 1\n",
            "Repetition 3, Episode 67 Priority: 1\n",
            "Repetition 3, Episode 68 Priority: 1\n",
            "Repetition 3, Episode 69 Priority: 1\n",
            "Repetition 3, Episode 70 Priority: 1\n",
            "Updated target network weights.\n",
            "Repetition 3, Episode 71 Priority: 1\n",
            "Repetition 3, Episode 72 Priority: 1\n",
            "Repetition 3, Episode 73 Priority: 1\n",
            "Repetition 3, Episode 74 Priority: 1\n",
            "Repetition 3, Episode 75 Priority: 1\n",
            "Repetition 3, Episode 76 Priority: 1\n",
            "Repetition 3, Episode 77 Priority: 1\n",
            "Repetition 3, Episode 78 Priority: 1\n",
            "Repetition 3, Episode 79 Priority: 1\n",
            "Repetition 3, Episode 80 Priority: 1\n",
            "Updated target network weights.\n",
            "Repetition 3, Episode 81 Priority: 1\n",
            "Repetition 3, Episode 82 Priority: 1\n",
            "Repetition 3, Episode 83 Priority: 1\n",
            "Repetition 3, Episode 84 Priority: 1\n",
            "Repetition 3, Episode 85 Priority: 1\n",
            "Repetition 3, Episode 86 Priority: 1\n",
            "Repetition 3, Episode 87 Priority: 1\n",
            "Repetition 3, Episode 88 Priority: 1\n",
            "Repetition 3, Episode 89 Priority: 1\n",
            "Repetition 3, Episode 90 Priority: 1\n",
            "Updated target network weights.\n",
            "Repetition 3, Episode 91 Priority: 1\n",
            "Repetition 3, Episode 92 Priority: 1\n",
            "Repetition 3, Episode 93 Priority: 1\n",
            "Repetition 3, Episode 94 Priority: 1\n",
            "Repetition 3, Episode 95 Priority: 1\n",
            "Repetition 3, Episode 96 Priority: 1\n"
          ]
        },
        {
          "name": "stderr",
          "output_type": "stream",
          "text": [
            "c:\\Users\\mrnal\\anaconda3\\envs\\final_tensor_env\\Lib\\site-packages\\gym\\envs\\classic_control\\cartpole.py:179: UserWarning: \u001b[33mWARN: You are calling 'step()' even though this environment has already returned terminated = True. You should always call 'reset()' once you receive 'terminated = True' -- any further steps are undefined behavior.\u001b[0m\n",
            "  logger.warn(\n"
          ]
        },
        {
          "name": "stdout",
          "output_type": "stream",
          "text": [
            "Repetition 3, Episode 97 Priority: 1\n",
            "Repetition 3, Episode 98 Priority: 1\n",
            "Repetition 3, Episode 99 Priority: 1\n",
            "Repetition 3, Episode 100 Priority: 1\n",
            "Updated target network weights.\n",
            "Repetition 4, Episode 1 Priority: 1\n"
          ]
        },
        {
          "ename": "KeyboardInterrupt",
          "evalue": "",
          "output_type": "error",
          "traceback": [
            "\u001b[1;31m---------------------------------------------------------------------------\u001b[0m",
            "\u001b[1;31mKeyboardInterrupt\u001b[0m                         Traceback (most recent call last)",
            "Cell \u001b[1;32mIn[14], line 4\u001b[0m\n\u001b[0;32m      1\u001b[0m rewards_all_runs \u001b[38;5;241m=\u001b[39m []\n\u001b[0;32m      3\u001b[0m \u001b[38;5;28;01mfor\u001b[39;00m repetition \u001b[38;5;129;01min\u001b[39;00m \u001b[38;5;28mrange\u001b[39m(num_repetitons):\n\u001b[1;32m----> 4\u001b[0m     rewards_per_episode \u001b[38;5;241m=\u001b[39m \u001b[43moverall_training_neural_network\u001b[49m\u001b[43m(\u001b[49m\u001b[43mrepetition\u001b[49m\u001b[43m)\u001b[49m\n\u001b[0;32m      5\u001b[0m     rewards_all_runs\u001b[38;5;241m.\u001b[39mappend(rewards_per_episode)\n\u001b[0;32m      7\u001b[0m rewards_all_runs \u001b[38;5;241m=\u001b[39m np\u001b[38;5;241m.\u001b[39marray(rewards_all_runs, dtype\u001b[38;5;241m=\u001b[39m\u001b[38;5;28mobject\u001b[39m)\n",
            "Cell \u001b[1;32mIn[13], line 38\u001b[0m, in \u001b[0;36moverall_training_neural_network\u001b[1;34m(repetition)\u001b[0m\n\u001b[0;32m     36\u001b[0m     current_state, action, immediate_reward, next_state, terminated \u001b[38;5;241m=\u001b[39m sample\n\u001b[0;32m     37\u001b[0m     q_value_before \u001b[38;5;241m=\u001b[39m get_q_value(current_state, action)\n\u001b[1;32m---> 38\u001b[0m     \u001b[43mbellman_update_training\u001b[49m\u001b[43m(\u001b[49m\u001b[43mstate\u001b[49m\u001b[43m,\u001b[49m\u001b[43m \u001b[49m\u001b[43maction\u001b[49m\u001b[43m,\u001b[49m\u001b[43m \u001b[49m\u001b[43mimmediate_reward\u001b[49m\u001b[43m,\u001b[49m\u001b[43m \u001b[49m\u001b[43mnext_state\u001b[49m\u001b[43m,\u001b[49m\u001b[43m \u001b[49m\u001b[43mterminated\u001b[49m\u001b[43m,\u001b[49m\u001b[43m \u001b[49m\u001b[43msteps_taken\u001b[49m\u001b[38;5;241;43m=\u001b[39;49m\u001b[43msteps_taken\u001b[49m\u001b[43m,\u001b[49m\u001b[43m \u001b[49m\u001b[43mmax_steps\u001b[49m\u001b[38;5;241;43m=\u001b[39;49m\u001b[38;5;241;43m2000\u001b[39;49m\u001b[43m)\u001b[49m  \u001b[38;5;66;03m# Update Q-values using bellman function defined\u001b[39;00m\n\u001b[0;32m     39\u001b[0m     q_value_after \u001b[38;5;241m=\u001b[39m get_q_value(current_state, action)\n\u001b[0;32m     41\u001b[0m rewards_df\u001b[38;5;241m.\u001b[39mloc[\u001b[38;5;28mlen\u001b[39m(rewards_df)] \u001b[38;5;241m=\u001b[39m [repetition \u001b[38;5;241m+\u001b[39m \u001b[38;5;241m1\u001b[39m, episode \u001b[38;5;241m+\u001b[39m \u001b[38;5;241m1\u001b[39m, cumulative_reward, q_value_before, q_value_after, \u001b[38;5;241m1\u001b[39m]\n",
            "Cell \u001b[1;32mIn[12], line 53\u001b[0m, in \u001b[0;36mbellman_update_training\u001b[1;34m(current_state, action, immediate_reward, next_state, terminated, steps_taken, max_steps)\u001b[0m\n\u001b[0;32m     49\u001b[0m     learning_value \u001b[38;5;241m=\u001b[39m \u001b[38;5;241m0.8\u001b[39m\n\u001b[0;32m     51\u001b[0m q_values[\u001b[38;5;241m0\u001b[39m][action] \u001b[38;5;241m=\u001b[39m (\u001b[38;5;241m1\u001b[39m \u001b[38;5;241m-\u001b[39m learning_value) \u001b[38;5;241m*\u001b[39m q_values[\u001b[38;5;241m0\u001b[39m][action] \u001b[38;5;241m+\u001b[39m learning_value \u001b[38;5;241m*\u001b[39m cumulative_reward\n\u001b[1;32m---> 53\u001b[0m \u001b[43mmodel_sample\u001b[49m\u001b[38;5;241;43m.\u001b[39;49m\u001b[43mfit\u001b[49m\u001b[43m(\u001b[49m\u001b[43mstate_reshaped\u001b[49m\u001b[43m,\u001b[49m\u001b[43m \u001b[49m\u001b[43mq_values\u001b[49m\u001b[43m,\u001b[49m\u001b[43m \u001b[49m\u001b[43mverbose\u001b[49m\u001b[38;5;241;43m=\u001b[39;49m\u001b[38;5;241;43m0\u001b[39;49m\u001b[43m)\u001b[49m \u001b[38;5;66;03m#train model on updated q value\u001b[39;00m\n\u001b[0;32m     55\u001b[0m q_values_updated \u001b[38;5;241m=\u001b[39m model_sample\u001b[38;5;241m.\u001b[39mpredict(state_reshaped, verbose\u001b[38;5;241m=\u001b[39m\u001b[38;5;241m0\u001b[39m)\n\u001b[0;32m     56\u001b[0m \u001b[38;5;66;03m# print(f\"Q-values after update: {q_values_updated}\")\u001b[39;00m\n",
            "File \u001b[1;32mc:\\Users\\mrnal\\anaconda3\\envs\\final_tensor_env\\Lib\\site-packages\\keras\\src\\utils\\traceback_utils.py:117\u001b[0m, in \u001b[0;36mfilter_traceback.<locals>.error_handler\u001b[1;34m(*args, **kwargs)\u001b[0m\n\u001b[0;32m    115\u001b[0m filtered_tb \u001b[38;5;241m=\u001b[39m \u001b[38;5;28;01mNone\u001b[39;00m\n\u001b[0;32m    116\u001b[0m \u001b[38;5;28;01mtry\u001b[39;00m:\n\u001b[1;32m--> 117\u001b[0m     \u001b[38;5;28;01mreturn\u001b[39;00m \u001b[43mfn\u001b[49m\u001b[43m(\u001b[49m\u001b[38;5;241;43m*\u001b[39;49m\u001b[43margs\u001b[49m\u001b[43m,\u001b[49m\u001b[43m \u001b[49m\u001b[38;5;241;43m*\u001b[39;49m\u001b[38;5;241;43m*\u001b[39;49m\u001b[43mkwargs\u001b[49m\u001b[43m)\u001b[49m\n\u001b[0;32m    118\u001b[0m \u001b[38;5;28;01mexcept\u001b[39;00m \u001b[38;5;167;01mException\u001b[39;00m \u001b[38;5;28;01mas\u001b[39;00m e:\n\u001b[0;32m    119\u001b[0m     filtered_tb \u001b[38;5;241m=\u001b[39m _process_traceback_frames(e\u001b[38;5;241m.\u001b[39m__traceback__)\n",
            "File \u001b[1;32mc:\\Users\\mrnal\\anaconda3\\envs\\final_tensor_env\\Lib\\site-packages\\keras\\src\\backend\\tensorflow\\trainer.py:320\u001b[0m, in \u001b[0;36mTensorFlowTrainer.fit\u001b[1;34m(self, x, y, batch_size, epochs, verbose, callbacks, validation_split, validation_data, shuffle, class_weight, sample_weight, initial_epoch, steps_per_epoch, validation_steps, validation_batch_size, validation_freq)\u001b[0m\n\u001b[0;32m    318\u001b[0m \u001b[38;5;28;01mfor\u001b[39;00m step, iterator \u001b[38;5;129;01min\u001b[39;00m epoch_iterator\u001b[38;5;241m.\u001b[39menumerate_epoch():\n\u001b[0;32m    319\u001b[0m     callbacks\u001b[38;5;241m.\u001b[39mon_train_batch_begin(step)\n\u001b[1;32m--> 320\u001b[0m     logs \u001b[38;5;241m=\u001b[39m \u001b[38;5;28;43mself\u001b[39;49m\u001b[38;5;241;43m.\u001b[39;49m\u001b[43mtrain_function\u001b[49m\u001b[43m(\u001b[49m\u001b[43miterator\u001b[49m\u001b[43m)\u001b[49m\n\u001b[0;32m    321\u001b[0m     callbacks\u001b[38;5;241m.\u001b[39mon_train_batch_end(step, logs)\n\u001b[0;32m    322\u001b[0m     \u001b[38;5;28;01mif\u001b[39;00m \u001b[38;5;28mself\u001b[39m\u001b[38;5;241m.\u001b[39mstop_training:\n",
            "File \u001b[1;32mc:\\Users\\mrnal\\anaconda3\\envs\\final_tensor_env\\Lib\\site-packages\\tensorflow\\python\\util\\traceback_utils.py:150\u001b[0m, in \u001b[0;36mfilter_traceback.<locals>.error_handler\u001b[1;34m(*args, **kwargs)\u001b[0m\n\u001b[0;32m    148\u001b[0m filtered_tb \u001b[38;5;241m=\u001b[39m \u001b[38;5;28;01mNone\u001b[39;00m\n\u001b[0;32m    149\u001b[0m \u001b[38;5;28;01mtry\u001b[39;00m:\n\u001b[1;32m--> 150\u001b[0m   \u001b[38;5;28;01mreturn\u001b[39;00m \u001b[43mfn\u001b[49m\u001b[43m(\u001b[49m\u001b[38;5;241;43m*\u001b[39;49m\u001b[43margs\u001b[49m\u001b[43m,\u001b[49m\u001b[43m \u001b[49m\u001b[38;5;241;43m*\u001b[39;49m\u001b[38;5;241;43m*\u001b[39;49m\u001b[43mkwargs\u001b[49m\u001b[43m)\u001b[49m\n\u001b[0;32m    151\u001b[0m \u001b[38;5;28;01mexcept\u001b[39;00m \u001b[38;5;167;01mException\u001b[39;00m \u001b[38;5;28;01mas\u001b[39;00m e:\n\u001b[0;32m    152\u001b[0m   filtered_tb \u001b[38;5;241m=\u001b[39m _process_traceback_frames(e\u001b[38;5;241m.\u001b[39m__traceback__)\n",
            "File \u001b[1;32mc:\\Users\\mrnal\\anaconda3\\envs\\final_tensor_env\\Lib\\site-packages\\tensorflow\\python\\eager\\polymorphic_function\\polymorphic_function.py:833\u001b[0m, in \u001b[0;36mFunction.__call__\u001b[1;34m(self, *args, **kwds)\u001b[0m\n\u001b[0;32m    830\u001b[0m compiler \u001b[38;5;241m=\u001b[39m \u001b[38;5;124m\"\u001b[39m\u001b[38;5;124mxla\u001b[39m\u001b[38;5;124m\"\u001b[39m \u001b[38;5;28;01mif\u001b[39;00m \u001b[38;5;28mself\u001b[39m\u001b[38;5;241m.\u001b[39m_jit_compile \u001b[38;5;28;01melse\u001b[39;00m \u001b[38;5;124m\"\u001b[39m\u001b[38;5;124mnonXla\u001b[39m\u001b[38;5;124m\"\u001b[39m\n\u001b[0;32m    832\u001b[0m \u001b[38;5;28;01mwith\u001b[39;00m OptionalXlaContext(\u001b[38;5;28mself\u001b[39m\u001b[38;5;241m.\u001b[39m_jit_compile):\n\u001b[1;32m--> 833\u001b[0m   result \u001b[38;5;241m=\u001b[39m \u001b[38;5;28;43mself\u001b[39;49m\u001b[38;5;241;43m.\u001b[39;49m\u001b[43m_call\u001b[49m\u001b[43m(\u001b[49m\u001b[38;5;241;43m*\u001b[39;49m\u001b[43margs\u001b[49m\u001b[43m,\u001b[49m\u001b[43m \u001b[49m\u001b[38;5;241;43m*\u001b[39;49m\u001b[38;5;241;43m*\u001b[39;49m\u001b[43mkwds\u001b[49m\u001b[43m)\u001b[49m\n\u001b[0;32m    835\u001b[0m new_tracing_count \u001b[38;5;241m=\u001b[39m \u001b[38;5;28mself\u001b[39m\u001b[38;5;241m.\u001b[39mexperimental_get_tracing_count()\n\u001b[0;32m    836\u001b[0m without_tracing \u001b[38;5;241m=\u001b[39m (tracing_count \u001b[38;5;241m==\u001b[39m new_tracing_count)\n",
            "File \u001b[1;32mc:\\Users\\mrnal\\anaconda3\\envs\\final_tensor_env\\Lib\\site-packages\\tensorflow\\python\\eager\\polymorphic_function\\polymorphic_function.py:878\u001b[0m, in \u001b[0;36mFunction._call\u001b[1;34m(self, *args, **kwds)\u001b[0m\n\u001b[0;32m    875\u001b[0m \u001b[38;5;28mself\u001b[39m\u001b[38;5;241m.\u001b[39m_lock\u001b[38;5;241m.\u001b[39mrelease()\n\u001b[0;32m    876\u001b[0m \u001b[38;5;66;03m# In this case we have not created variables on the first call. So we can\u001b[39;00m\n\u001b[0;32m    877\u001b[0m \u001b[38;5;66;03m# run the first trace but we should fail if variables are created.\u001b[39;00m\n\u001b[1;32m--> 878\u001b[0m results \u001b[38;5;241m=\u001b[39m \u001b[43mtracing_compilation\u001b[49m\u001b[38;5;241;43m.\u001b[39;49m\u001b[43mcall_function\u001b[49m\u001b[43m(\u001b[49m\n\u001b[0;32m    879\u001b[0m \u001b[43m    \u001b[49m\u001b[43margs\u001b[49m\u001b[43m,\u001b[49m\u001b[43m \u001b[49m\u001b[43mkwds\u001b[49m\u001b[43m,\u001b[49m\u001b[43m \u001b[49m\u001b[38;5;28;43mself\u001b[39;49m\u001b[38;5;241;43m.\u001b[39;49m\u001b[43m_variable_creation_config\u001b[49m\n\u001b[0;32m    880\u001b[0m \u001b[43m\u001b[49m\u001b[43m)\u001b[49m\n\u001b[0;32m    881\u001b[0m \u001b[38;5;28;01mif\u001b[39;00m \u001b[38;5;28mself\u001b[39m\u001b[38;5;241m.\u001b[39m_created_variables:\n\u001b[0;32m    882\u001b[0m   \u001b[38;5;28;01mraise\u001b[39;00m \u001b[38;5;167;01mValueError\u001b[39;00m(\u001b[38;5;124m\"\u001b[39m\u001b[38;5;124mCreating variables on a non-first call to a function\u001b[39m\u001b[38;5;124m\"\u001b[39m\n\u001b[0;32m    883\u001b[0m                    \u001b[38;5;124m\"\u001b[39m\u001b[38;5;124m decorated with tf.function.\u001b[39m\u001b[38;5;124m\"\u001b[39m)\n",
            "File \u001b[1;32mc:\\Users\\mrnal\\anaconda3\\envs\\final_tensor_env\\Lib\\site-packages\\tensorflow\\python\\eager\\polymorphic_function\\tracing_compilation.py:139\u001b[0m, in \u001b[0;36mcall_function\u001b[1;34m(args, kwargs, tracing_options)\u001b[0m\n\u001b[0;32m    137\u001b[0m bound_args \u001b[38;5;241m=\u001b[39m function\u001b[38;5;241m.\u001b[39mfunction_type\u001b[38;5;241m.\u001b[39mbind(\u001b[38;5;241m*\u001b[39margs, \u001b[38;5;241m*\u001b[39m\u001b[38;5;241m*\u001b[39mkwargs)\n\u001b[0;32m    138\u001b[0m flat_inputs \u001b[38;5;241m=\u001b[39m function\u001b[38;5;241m.\u001b[39mfunction_type\u001b[38;5;241m.\u001b[39munpack_inputs(bound_args)\n\u001b[1;32m--> 139\u001b[0m \u001b[38;5;28;01mreturn\u001b[39;00m \u001b[43mfunction\u001b[49m\u001b[38;5;241;43m.\u001b[39;49m\u001b[43m_call_flat\u001b[49m\u001b[43m(\u001b[49m\u001b[43m  \u001b[49m\u001b[38;5;66;43;03m# pylint: disable=protected-access\u001b[39;49;00m\n\u001b[0;32m    140\u001b[0m \u001b[43m    \u001b[49m\u001b[43mflat_inputs\u001b[49m\u001b[43m,\u001b[49m\u001b[43m \u001b[49m\u001b[43mcaptured_inputs\u001b[49m\u001b[38;5;241;43m=\u001b[39;49m\u001b[43mfunction\u001b[49m\u001b[38;5;241;43m.\u001b[39;49m\u001b[43mcaptured_inputs\u001b[49m\n\u001b[0;32m    141\u001b[0m \u001b[43m\u001b[49m\u001b[43m)\u001b[49m\n",
            "File \u001b[1;32mc:\\Users\\mrnal\\anaconda3\\envs\\final_tensor_env\\Lib\\site-packages\\tensorflow\\python\\eager\\polymorphic_function\\concrete_function.py:1322\u001b[0m, in \u001b[0;36mConcreteFunction._call_flat\u001b[1;34m(self, tensor_inputs, captured_inputs)\u001b[0m\n\u001b[0;32m   1318\u001b[0m possible_gradient_type \u001b[38;5;241m=\u001b[39m gradients_util\u001b[38;5;241m.\u001b[39mPossibleTapeGradientTypes(args)\n\u001b[0;32m   1319\u001b[0m \u001b[38;5;28;01mif\u001b[39;00m (possible_gradient_type \u001b[38;5;241m==\u001b[39m gradients_util\u001b[38;5;241m.\u001b[39mPOSSIBLE_GRADIENT_TYPES_NONE\n\u001b[0;32m   1320\u001b[0m     \u001b[38;5;129;01mand\u001b[39;00m executing_eagerly):\n\u001b[0;32m   1321\u001b[0m   \u001b[38;5;66;03m# No tape is watching; skip to running the function.\u001b[39;00m\n\u001b[1;32m-> 1322\u001b[0m   \u001b[38;5;28;01mreturn\u001b[39;00m \u001b[38;5;28;43mself\u001b[39;49m\u001b[38;5;241;43m.\u001b[39;49m\u001b[43m_inference_function\u001b[49m\u001b[38;5;241;43m.\u001b[39;49m\u001b[43mcall_preflattened\u001b[49m\u001b[43m(\u001b[49m\u001b[43margs\u001b[49m\u001b[43m)\u001b[49m\n\u001b[0;32m   1323\u001b[0m forward_backward \u001b[38;5;241m=\u001b[39m \u001b[38;5;28mself\u001b[39m\u001b[38;5;241m.\u001b[39m_select_forward_and_backward_functions(\n\u001b[0;32m   1324\u001b[0m     args,\n\u001b[0;32m   1325\u001b[0m     possible_gradient_type,\n\u001b[0;32m   1326\u001b[0m     executing_eagerly)\n\u001b[0;32m   1327\u001b[0m forward_function, args_with_tangents \u001b[38;5;241m=\u001b[39m forward_backward\u001b[38;5;241m.\u001b[39mforward()\n",
            "File \u001b[1;32mc:\\Users\\mrnal\\anaconda3\\envs\\final_tensor_env\\Lib\\site-packages\\tensorflow\\python\\eager\\polymorphic_function\\atomic_function.py:216\u001b[0m, in \u001b[0;36mAtomicFunction.call_preflattened\u001b[1;34m(self, args)\u001b[0m\n\u001b[0;32m    214\u001b[0m \u001b[38;5;28;01mdef\u001b[39;00m \u001b[38;5;21mcall_preflattened\u001b[39m(\u001b[38;5;28mself\u001b[39m, args: Sequence[core\u001b[38;5;241m.\u001b[39mTensor]) \u001b[38;5;241m-\u001b[39m\u001b[38;5;241m>\u001b[39m Any:\n\u001b[0;32m    215\u001b[0m \u001b[38;5;250m  \u001b[39m\u001b[38;5;124;03m\"\"\"Calls with flattened tensor inputs and returns the structured output.\"\"\"\u001b[39;00m\n\u001b[1;32m--> 216\u001b[0m   flat_outputs \u001b[38;5;241m=\u001b[39m \u001b[38;5;28;43mself\u001b[39;49m\u001b[38;5;241;43m.\u001b[39;49m\u001b[43mcall_flat\u001b[49m\u001b[43m(\u001b[49m\u001b[38;5;241;43m*\u001b[39;49m\u001b[43margs\u001b[49m\u001b[43m)\u001b[49m\n\u001b[0;32m    217\u001b[0m   \u001b[38;5;28;01mreturn\u001b[39;00m \u001b[38;5;28mself\u001b[39m\u001b[38;5;241m.\u001b[39mfunction_type\u001b[38;5;241m.\u001b[39mpack_output(flat_outputs)\n",
            "File \u001b[1;32mc:\\Users\\mrnal\\anaconda3\\envs\\final_tensor_env\\Lib\\site-packages\\tensorflow\\python\\eager\\polymorphic_function\\atomic_function.py:251\u001b[0m, in \u001b[0;36mAtomicFunction.call_flat\u001b[1;34m(self, *args)\u001b[0m\n\u001b[0;32m    249\u001b[0m \u001b[38;5;28;01mwith\u001b[39;00m record\u001b[38;5;241m.\u001b[39mstop_recording():\n\u001b[0;32m    250\u001b[0m   \u001b[38;5;28;01mif\u001b[39;00m \u001b[38;5;28mself\u001b[39m\u001b[38;5;241m.\u001b[39m_bound_context\u001b[38;5;241m.\u001b[39mexecuting_eagerly():\n\u001b[1;32m--> 251\u001b[0m     outputs \u001b[38;5;241m=\u001b[39m \u001b[38;5;28;43mself\u001b[39;49m\u001b[38;5;241;43m.\u001b[39;49m\u001b[43m_bound_context\u001b[49m\u001b[38;5;241;43m.\u001b[39;49m\u001b[43mcall_function\u001b[49m\u001b[43m(\u001b[49m\n\u001b[0;32m    252\u001b[0m \u001b[43m        \u001b[49m\u001b[38;5;28;43mself\u001b[39;49m\u001b[38;5;241;43m.\u001b[39;49m\u001b[43mname\u001b[49m\u001b[43m,\u001b[49m\n\u001b[0;32m    253\u001b[0m \u001b[43m        \u001b[49m\u001b[38;5;28;43mlist\u001b[39;49m\u001b[43m(\u001b[49m\u001b[43margs\u001b[49m\u001b[43m)\u001b[49m\u001b[43m,\u001b[49m\n\u001b[0;32m    254\u001b[0m \u001b[43m        \u001b[49m\u001b[38;5;28;43mlen\u001b[39;49m\u001b[43m(\u001b[49m\u001b[38;5;28;43mself\u001b[39;49m\u001b[38;5;241;43m.\u001b[39;49m\u001b[43mfunction_type\u001b[49m\u001b[38;5;241;43m.\u001b[39;49m\u001b[43mflat_outputs\u001b[49m\u001b[43m)\u001b[49m\u001b[43m,\u001b[49m\n\u001b[0;32m    255\u001b[0m \u001b[43m    \u001b[49m\u001b[43m)\u001b[49m\n\u001b[0;32m    256\u001b[0m   \u001b[38;5;28;01melse\u001b[39;00m:\n\u001b[0;32m    257\u001b[0m     outputs \u001b[38;5;241m=\u001b[39m make_call_op_in_graph(\n\u001b[0;32m    258\u001b[0m         \u001b[38;5;28mself\u001b[39m,\n\u001b[0;32m    259\u001b[0m         \u001b[38;5;28mlist\u001b[39m(args),\n\u001b[0;32m    260\u001b[0m         \u001b[38;5;28mself\u001b[39m\u001b[38;5;241m.\u001b[39m_bound_context\u001b[38;5;241m.\u001b[39mfunction_call_options\u001b[38;5;241m.\u001b[39mas_attrs(),\n\u001b[0;32m    261\u001b[0m     )\n",
            "File \u001b[1;32mc:\\Users\\mrnal\\anaconda3\\envs\\final_tensor_env\\Lib\\site-packages\\tensorflow\\python\\eager\\context.py:1683\u001b[0m, in \u001b[0;36mContext.call_function\u001b[1;34m(self, name, tensor_inputs, num_outputs)\u001b[0m\n\u001b[0;32m   1681\u001b[0m cancellation_context \u001b[38;5;241m=\u001b[39m cancellation\u001b[38;5;241m.\u001b[39mcontext()\n\u001b[0;32m   1682\u001b[0m \u001b[38;5;28;01mif\u001b[39;00m cancellation_context \u001b[38;5;129;01mis\u001b[39;00m \u001b[38;5;28;01mNone\u001b[39;00m:\n\u001b[1;32m-> 1683\u001b[0m   outputs \u001b[38;5;241m=\u001b[39m \u001b[43mexecute\u001b[49m\u001b[38;5;241;43m.\u001b[39;49m\u001b[43mexecute\u001b[49m\u001b[43m(\u001b[49m\n\u001b[0;32m   1684\u001b[0m \u001b[43m      \u001b[49m\u001b[43mname\u001b[49m\u001b[38;5;241;43m.\u001b[39;49m\u001b[43mdecode\u001b[49m\u001b[43m(\u001b[49m\u001b[38;5;124;43m\"\u001b[39;49m\u001b[38;5;124;43mutf-8\u001b[39;49m\u001b[38;5;124;43m\"\u001b[39;49m\u001b[43m)\u001b[49m\u001b[43m,\u001b[49m\n\u001b[0;32m   1685\u001b[0m \u001b[43m      \u001b[49m\u001b[43mnum_outputs\u001b[49m\u001b[38;5;241;43m=\u001b[39;49m\u001b[43mnum_outputs\u001b[49m\u001b[43m,\u001b[49m\n\u001b[0;32m   1686\u001b[0m \u001b[43m      \u001b[49m\u001b[43minputs\u001b[49m\u001b[38;5;241;43m=\u001b[39;49m\u001b[43mtensor_inputs\u001b[49m\u001b[43m,\u001b[49m\n\u001b[0;32m   1687\u001b[0m \u001b[43m      \u001b[49m\u001b[43mattrs\u001b[49m\u001b[38;5;241;43m=\u001b[39;49m\u001b[43mattrs\u001b[49m\u001b[43m,\u001b[49m\n\u001b[0;32m   1688\u001b[0m \u001b[43m      \u001b[49m\u001b[43mctx\u001b[49m\u001b[38;5;241;43m=\u001b[39;49m\u001b[38;5;28;43mself\u001b[39;49m\u001b[43m,\u001b[49m\n\u001b[0;32m   1689\u001b[0m \u001b[43m  \u001b[49m\u001b[43m)\u001b[49m\n\u001b[0;32m   1690\u001b[0m \u001b[38;5;28;01melse\u001b[39;00m:\n\u001b[0;32m   1691\u001b[0m   outputs \u001b[38;5;241m=\u001b[39m execute\u001b[38;5;241m.\u001b[39mexecute_with_cancellation(\n\u001b[0;32m   1692\u001b[0m       name\u001b[38;5;241m.\u001b[39mdecode(\u001b[38;5;124m\"\u001b[39m\u001b[38;5;124mutf-8\u001b[39m\u001b[38;5;124m\"\u001b[39m),\n\u001b[0;32m   1693\u001b[0m       num_outputs\u001b[38;5;241m=\u001b[39mnum_outputs,\n\u001b[1;32m   (...)\u001b[0m\n\u001b[0;32m   1697\u001b[0m       cancellation_manager\u001b[38;5;241m=\u001b[39mcancellation_context,\n\u001b[0;32m   1698\u001b[0m   )\n",
            "File \u001b[1;32mc:\\Users\\mrnal\\anaconda3\\envs\\final_tensor_env\\Lib\\site-packages\\tensorflow\\python\\eager\\execute.py:53\u001b[0m, in \u001b[0;36mquick_execute\u001b[1;34m(op_name, num_outputs, inputs, attrs, ctx, name)\u001b[0m\n\u001b[0;32m     51\u001b[0m \u001b[38;5;28;01mtry\u001b[39;00m:\n\u001b[0;32m     52\u001b[0m   ctx\u001b[38;5;241m.\u001b[39mensure_initialized()\n\u001b[1;32m---> 53\u001b[0m   tensors \u001b[38;5;241m=\u001b[39m \u001b[43mpywrap_tfe\u001b[49m\u001b[38;5;241;43m.\u001b[39;49m\u001b[43mTFE_Py_Execute\u001b[49m\u001b[43m(\u001b[49m\u001b[43mctx\u001b[49m\u001b[38;5;241;43m.\u001b[39;49m\u001b[43m_handle\u001b[49m\u001b[43m,\u001b[49m\u001b[43m \u001b[49m\u001b[43mdevice_name\u001b[49m\u001b[43m,\u001b[49m\u001b[43m \u001b[49m\u001b[43mop_name\u001b[49m\u001b[43m,\u001b[49m\n\u001b[0;32m     54\u001b[0m \u001b[43m                                      \u001b[49m\u001b[43minputs\u001b[49m\u001b[43m,\u001b[49m\u001b[43m \u001b[49m\u001b[43mattrs\u001b[49m\u001b[43m,\u001b[49m\u001b[43m \u001b[49m\u001b[43mnum_outputs\u001b[49m\u001b[43m)\u001b[49m\n\u001b[0;32m     55\u001b[0m \u001b[38;5;28;01mexcept\u001b[39;00m core\u001b[38;5;241m.\u001b[39m_NotOkStatusException \u001b[38;5;28;01mas\u001b[39;00m e:\n\u001b[0;32m     56\u001b[0m   \u001b[38;5;28;01mif\u001b[39;00m name \u001b[38;5;129;01mis\u001b[39;00m \u001b[38;5;129;01mnot\u001b[39;00m \u001b[38;5;28;01mNone\u001b[39;00m:\n",
            "\u001b[1;31mKeyboardInterrupt\u001b[0m: "
          ]
        }
      ],
      "source": [
        "rewards_all_runs = []\n",
        "\n",
        "for repetition in range(num_repetitons):\n",
        "    rewards_per_episode = overall_training_neural_network(repetition)\n",
        "    rewards_all_runs.append(rewards_per_episode)\n",
        "\n",
        "rewards_all_runs = np.array(rewards_all_runs, dtype=object)\n",
        "\n",
        "for repetiton in range(num_repetitons):\n",
        "    plt.plot(rewards_all_runs[repetition], label=f'Run {repetition + 1}')\n",
        "\n",
        "max_length = min(len(run) for run in rewards_all_runs)\n",
        "avg_rewards = np.mean([run[:max_length] for run in rewards_all_runs], axis=0)\n",
        "plt.plot(avg_rewards, label='Average Reward', color='black', linestyle='--', linewidth=2)\n",
        "\n",
        "plt.xlabel('Episodes')\n",
        "plt.ylabel('Total Reward')\n",
        "plt.title('Total Reward per Episode Across Multiple Runs with Averaging(No Smoothing and no Convolution)')\n",
        "plt.legend(loc='upper left')\n",
        "plt.show()\n",
        "\n",
        "print(rewards_df)\n"
      ]
    },
    {
      "cell_type": "code",
      "execution_count": 15,
      "metadata": {
        "id": "UfXUPkHERsNZ"
      },
      "outputs": [
        {
          "ename": "IndexError",
          "evalue": "list index out of range",
          "output_type": "error",
          "traceback": [
            "\u001b[1;31m---------------------------------------------------------------------------\u001b[0m",
            "\u001b[1;31mIndexError\u001b[0m                                Traceback (most recent call last)",
            "Cell \u001b[1;32mIn[15], line 2\u001b[0m\n\u001b[0;32m      1\u001b[0m \u001b[38;5;28;01mfor\u001b[39;00m repetiton \u001b[38;5;129;01min\u001b[39;00m \u001b[38;5;28mrange\u001b[39m(num_repetitons):\n\u001b[1;32m----> 2\u001b[0m     plt\u001b[38;5;241m.\u001b[39mplot(\u001b[43mrewards_all_runs\u001b[49m\u001b[43m[\u001b[49m\u001b[43mrepetition\u001b[49m\u001b[43m]\u001b[49m, label\u001b[38;5;241m=\u001b[39m\u001b[38;5;124mf\u001b[39m\u001b[38;5;124m'\u001b[39m\u001b[38;5;124mRun \u001b[39m\u001b[38;5;132;01m{\u001b[39;00mrepetition\u001b[38;5;250m \u001b[39m\u001b[38;5;241m+\u001b[39m\u001b[38;5;250m \u001b[39m\u001b[38;5;241m1\u001b[39m\u001b[38;5;132;01m}\u001b[39;00m\u001b[38;5;124m'\u001b[39m)\n\u001b[0;32m      4\u001b[0m max_length \u001b[38;5;241m=\u001b[39m \u001b[38;5;28mmin\u001b[39m(\u001b[38;5;28mlen\u001b[39m(run) \u001b[38;5;28;01mfor\u001b[39;00m run \u001b[38;5;129;01min\u001b[39;00m rewards_all_runs)\n\u001b[0;32m      5\u001b[0m avg_rewards \u001b[38;5;241m=\u001b[39m np\u001b[38;5;241m.\u001b[39mmean([run[:max_length] \u001b[38;5;28;01mfor\u001b[39;00m run \u001b[38;5;129;01min\u001b[39;00m rewards_all_runs], axis\u001b[38;5;241m=\u001b[39m\u001b[38;5;241m0\u001b[39m)\n",
            "\u001b[1;31mIndexError\u001b[0m: list index out of range"
          ]
        }
      ],
      "source": [
        "for repetiton in range(num_repetitons):\n",
        "    plt.plot(rewards_all_runs[repetition], label=f'Run {repetition + 1}')\n",
        "\n",
        "max_length = min(len(run) for run in rewards_all_runs)\n",
        "avg_rewards = np.mean([run[:max_length] for run in rewards_all_runs], axis=0)\n",
        "plt.plot(avg_rewards, label='Average Reward', color='black', linestyle='--', linewidth=2)\n",
        "\n",
        "plt.xlabel('Episodes')\n",
        "plt.ylabel('Total Reward')\n",
        "plt.title('Total Reward per Episode Across Multiple Runs with Averaging(No Smoothing and no Convolution)')\n",
        "plt.legend(loc='upper left')\n",
        "plt.show()\n",
        "\n",
        "print(rewards_df)"
      ]
    },
    {
      "cell_type": "code",
      "execution_count": 16,
      "metadata": {
        "id": "42KIYaavR2BD"
      },
      "outputs": [],
      "source": [
        "rewards_df.to_csv(\"rewards_df_tnandbuffer.csv\", index=False)"
      ]
    }
  ],
  "metadata": {
    "accelerator": "GPU",
    "colab": {
      "gpuType": "T4",
      "machine_shape": "hm",
      "provenance": []
    },
    "kernelspec": {
      "display_name": "final_tensor_env",
      "language": "python",
      "name": "python3"
    },
    "language_info": {
      "codemirror_mode": {
        "name": "ipython",
        "version": 3
      },
      "file_extension": ".py",
      "mimetype": "text/x-python",
      "name": "python",
      "nbconvert_exporter": "python",
      "pygments_lexer": "ipython3",
      "version": "3.11.10"
    }
  },
  "nbformat": 4,
  "nbformat_minor": 0
}
