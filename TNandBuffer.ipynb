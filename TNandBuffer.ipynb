{
  "cells": [
    {
      "cell_type": "code",
      "execution_count": 1,
      "metadata": {
        "id": "02aqvl0Yvnay"
      },
      "outputs": [],
      "source": [
        "from collections import deque\n",
        "\n",
        "buffer_max_size = 20000 #max number of episodes in a buffer\n",
        "batch_size = 64 #Number of episodes to sample during each Q-value update\n",
        "episodes_buffer = deque(maxlen=buffer_max_size)"
      ]
    },
    {
      "cell_type": "code",
      "execution_count": 2,
      "metadata": {
        "id": "E3x9MSo0vrTL"
      },
      "outputs": [],
      "source": [
        "def add_episode_to_buffer(state, action, reward, next_state, terminated):\n",
        "    episode = (state, action, reward, next_state, terminated)\n",
        "    episodes_buffer.append(episode)\n"
      ]
    },
    {
      "cell_type": "code",
      "execution_count": 3,
      "metadata": {
        "id": "ppgLtDDavs39"
      },
      "outputs": [],
      "source": [
        "import random\n",
        "\n",
        "def sampling_batch():\n",
        "    return random.sample(episodes_buffer, batch_size)"
      ]
    },
    {
      "cell_type": "code",
      "execution_count": 4,
      "metadata": {
        "id": "VvBdUqd5vuBm"
      },
      "outputs": [],
      "source": [
        "def storage_in_buffer():\n",
        "    return len(episodes_buffer) > batch_size"
      ]
    },
    {
      "cell_type": "code",
      "execution_count": 5,
      "metadata": {
        "colab": {
          "base_uri": "https://localhost:8080/"
        },
        "id": "oVg2gZ7WvvsW",
        "outputId": "eac9ef07-e9c1-41f9-d526-467a724f171d"
      },
      "outputs": [
        {
          "name": "stderr",
          "output_type": "stream",
          "text": [
            "c:\\Users\\mrnal\\anaconda3\\envs\\final_tensor_env\\Lib\\site-packages\\gym\\core.py:317: DeprecationWarning: \u001b[33mWARN: Initializing wrapper in old step API which returns one bool instead of two. It is recommended to set `new_step_api=True` to use new step API. This will be the default behaviour in future.\u001b[0m\n",
            "  deprecation(\n",
            "c:\\Users\\mrnal\\anaconda3\\envs\\final_tensor_env\\Lib\\site-packages\\gym\\wrappers\\step_api_compatibility.py:39: DeprecationWarning: \u001b[33mWARN: Initializing environment in old step API which returns one bool instead of two. It is recommended to set `new_step_api=True` to use new step API. This will be the default behaviour in future.\u001b[0m\n",
            "  deprecation(\n"
          ]
        }
      ],
      "source": [
        "import gym\n",
        "import numpy as np\n",
        "import tensorflow as tf\n",
        "from tensorflow.keras import layers,Input\n",
        "import matplotlib.pyplot as plt\n",
        "\n",
        "cartpole_env = gym.make('CartPole-v1')\n"
      ]
    },
    {
      "cell_type": "code",
      "execution_count": 6,
      "metadata": {
        "id": "AKhDcO4QvxCT"
      },
      "outputs": [],
      "source": [
        "def build_neural_model_Q(state_space_size, action_space_size):\n",
        "    model = tf.keras.Sequential([\n",
        "        Input(shape=(state_space_size,)),\n",
        "        layers.Dense(64, activation='relu'),\n",
        "        layers.Dense(24, activation='relu'),\n",
        "        layers.Dense(action_space_size, activation='linear')\n",
        "    ])\n",
        "    model.compile(optimizer=tf.keras.optimizers.Adam(learning_rate=0.002))\n",
        "    return model\n"
      ]
    },
    {
      "cell_type": "code",
      "execution_count": 7,
      "metadata": {
        "id": "E3IgsFYYvyXv"
      },
      "outputs": [],
      "source": [
        "discount_factor = 0.99\n",
        "explore_epsilon = 1.0\n",
        "epsilon_decay = 0.995\n",
        "maximum_epsilon = 0.75\n",
        "learning_value = 0.09\n",
        "num_episodes = 100\n",
        "num_repetitons = 5\n",
        "target_steps = 2000 ##across all episodes in a run\n"
      ]
    },
    {
      "cell_type": "code",
      "execution_count": 8,
      "metadata": {
        "id": "19K72vgcvz8f"
      },
      "outputs": [],
      "source": [
        "state_size_sample = cartpole_env.observation_space.shape[0]\n",
        "action_size_sample = cartpole_env.action_space.n\n",
        "model_sample = build_neural_model_Q(state_size_sample, action_size_sample)\n",
        "target_model_sample = build_neural_model_Q(state_size_sample, action_size_sample)"
      ]
    },
    {
      "cell_type": "code",
      "execution_count": 9,
      "metadata": {
        "id": "3lVjC5ynv1tu"
      },
      "outputs": [],
      "source": [
        "def update_target_network():\n",
        "    target_model_sample.set_weights(model_sample.get_weights())\n",
        "    print(\"Updated target network weights.\")"
      ]
    },
    {
      "cell_type": "code",
      "execution_count": 10,
      "metadata": {
        "id": "zhRJtqOXv3TN"
      },
      "outputs": [],
      "source": [
        "# Function to choose an action using epsilon-greedy strategy\n",
        "# if the explore_epsilon is lesser than the random number generated, generate a random action\n",
        "\n",
        "def epsilon_greedy_action(state):\n",
        "    if isinstance(state, tuple):\n",
        "        state = state[0]\n",
        "    state_reshaped = np.array(state).reshape(1, -1)\n",
        "\n",
        "    if np.random.uniform(0, 1) > explore_epsilon:\n",
        "        return cartpole_env.action_space.sample()\n",
        "    else: #choose best action according to knowledge\n",
        "        state_reshaped = state.reshape(1, -1)  # shape: (1, 4) # implicit batch definition of size 1\n",
        "        model_q_values = model_sample.predict(state_reshaped, verbose=0)\n",
        "        return np.argmax(model_q_values[0])  # according to the model the system would benefit from taking right action here. only different to left action by a slight amount\n",
        "\n",
        "# state = cartpole_env.reset()\n",
        "# print(f\"State: {state}\") # here there is a 1*4 output for state\n",
        "# action = epsilon_greedy_action(state)\n",
        "# print(f\"Chosen action: {action}\")\n",
        "\n",
        "\n",
        "\n"
      ]
    },
    {
      "cell_type": "code",
      "execution_count": 11,
      "metadata": {
        "id": "zJjm2aVLv4yZ"
      },
      "outputs": [],
      "source": [
        "from tensorflow.keras.optimizers import Adam\n",
        "model_sample.compile(optimizer=Adam(learning_rate=0.003), loss='mean_squared_error')\n"
      ]
    },
    {
      "cell_type": "code",
      "execution_count": 12,
      "metadata": {
        "colab": {
          "base_uri": "https://localhost:8080/"
        },
        "id": "qXuoaeC6v6yd",
        "outputId": "fa02f6d1-2aad-4eed-cc07-8858ca715f84"
      },
      "outputs": [
        {
          "name": "stdout",
          "output_type": "stream",
          "text": [
            "----------------------------------------------------------------------------------------------------\n"
          ]
        }
      ],
      "source": [
        "#used to update the Q-values in the training stage\n",
        "def bellman_update_training(current_state, action, immediate_reward, next_state, terminated, steps_taken=None, max_steps=None):\n",
        "\n",
        "    if isinstance(current_state, tuple):\n",
        "        current_state = current_state[0]\n",
        "\n",
        "    cumulative_reward = immediate_reward # reward taken for taking action in current_state\n",
        "    priority = 1 #default priority for normal episode\n",
        "\n",
        "    #-----prioritycase2-----, give priority to bad experiences where going to the target takes alot of steps\n",
        "    # ----prioritycase3-----, give priority to bad experiences where we never reach the target but steps complete\n",
        "    #-----prioritycase4----, give priority to bad experiences where we reach sub-optimal solution but program thinks its target\n",
        "\n",
        "    #prioritycase2\n",
        "    if steps_taken is not None and max_steps is not None:\n",
        "        if steps_taken > 0.5 * max_steps:\n",
        "            priority = 2  # defining edge case\n",
        "\n",
        "    #prioritycase3\n",
        "    if terminated and steps_taken < max_steps * 0.7:\n",
        "        priority = 3\n",
        "\n",
        "    #prioritycase4\n",
        "    if not terminated and immediate_reward<1:\n",
        "        priority = 4\n",
        "\n",
        "    # print(f\"Designated Priority: {priority}\")\n",
        "\n",
        "    # updating target if epsiode is not terminated\n",
        "    if not terminated:\n",
        "        next_state_reshaped = next_state.reshape(1, -1)\n",
        "        next_q_values = target_model_sample.predict(next_state_reshaped,verbose=0)\n",
        "        cumulative_reward = immediate_reward + discount_factor * np.max(next_q_values[0]) # target is updated to be this\n",
        "\n",
        "    state_reshaped = current_state.reshape(1, -1)\n",
        "    q_values = model_sample.predict(state_reshaped, verbose=0) # expected future rewards from current state\n",
        "    # print(f\"Q-values before update: {q_values}\")\n",
        "\n",
        "    if priority == 1:\n",
        "       learning_value = 0.1\n",
        "\n",
        "    elif priority == 2:\n",
        "        learning_value = 0.2\n",
        "\n",
        "    elif priority == 3:\n",
        "        learning_value = 0.5\n",
        "\n",
        "    elif priority == 4:\n",
        "        learning_value = 0.8\n",
        "\n",
        "    q_values[0][action] = (1 - learning_value) * q_values[0][action] + learning_value * cumulative_reward\n",
        "\n",
        "    model_sample.fit(state_reshaped, q_values, verbose=0) #train model on updated q value\n",
        "\n",
        "    q_values_updated = model_sample.predict(state_reshaped, verbose=0)\n",
        "    # print(f\"Q-values after update: {q_values_updated}\")\n",
        "\n",
        "    return priority\n",
        "\n",
        "current_state = np.array([0.2, 0.1, 0.0, 0.0])\n",
        "next_state = np.array([0.3, 0.1, 0.0, 0.0])\n",
        "steps_taken = 10\n",
        "max_steps = 2000\n",
        "immediate_reward = 1\n",
        "terminated = False\n",
        "priority = bellman_update_training(current_state, 1, immediate_reward, next_state, terminated, steps_taken=steps_taken, max_steps=max_steps)\n",
        "print('-' * 100)\n",
        "\n",
        "#we can test with different parameters to this function to see how priority changes\n",
        "\n"
      ]
    },
    {
      "cell_type": "code",
      "execution_count": 13,
      "metadata": {
        "id": "HQkXuoEfwALO"
      },
      "outputs": [],
      "source": [
        "#this function is used to train the neural network overall.\n",
        "# used to show program how to update the states, take actions and reset.\n",
        "# tracking the performance so it can be plotted using graphs\n",
        "import pandas as pd\n",
        "import torch\n",
        "\n",
        "rewards_df = pd.DataFrame(columns=['Repetition', 'Episode', 'Total Reward','Q Value Before', 'Q Value After','Priority'])\n",
        "\n",
        "def get_q_value(state, action):\n",
        "    state_array = np.array(state).reshape(1, -1)\n",
        "    q_values = model_sample.predict(state_array, verbose=0)\n",
        "    return q_values[0][action]\n",
        "\n",
        "def overall_training_neural_network(repetition):\n",
        "    global explore_epsilon\n",
        "    rewards_per_episode = []\n",
        "\n",
        "    for episode in range(num_episodes):\n",
        "        state = cartpole_env.reset()  # Reset environment to get initial state for each episode beginning\n",
        "        cumulative_reward = 0 # keeps track of cumulative reward accumulated in an episode\n",
        "        steps_taken = 0 # keeps track of number of steps taken in an episode\n",
        "        terminated = False #indicates program whether an episode or run has ended\n",
        "        truncated = False\n",
        "\n",
        "        while not terminated:\n",
        "            action = epsilon_greedy_action(state)  # Select action using epsilon-greedy function we defined\n",
        "            next_state, immediate_reward, terminated, info = cartpole_env.step(action)  # Take action in the environment\n",
        "\n",
        "            add_episode_to_buffer(state, action, immediate_reward, next_state, terminated)\n",
        "\n",
        "            q_value_before = None\n",
        "            q_value_after = None\n",
        "\n",
        "            if storage_in_buffer():\n",
        "                batch = sampling_batch()\n",
        "                for sample in batch:\n",
        "                    current_state, action, immediate_reward, next_state, terminated = sample\n",
        "                    q_value_before = get_q_value(current_state, action)\n",
        "                    bellman_update_training(state, action, immediate_reward, next_state, terminated, steps_taken=steps_taken, max_steps=2000)  # Update Q-values using bellman function defined\n",
        "                    q_value_after = get_q_value(current_state, action)\n",
        "\n",
        "            state = next_state\n",
        "            cumulative_reward += immediate_reward\n",
        "            steps_taken += 1\n",
        "\n",
        "        # Decay epsilon (exploration rate) after each episode\n",
        "        explore_epsilon = max(maximum_epsilon, explore_epsilon * epsilon_decay)\n",
        "\n",
        "        rewards_per_episode.append(cumulative_reward)\n",
        "        rewards_df.loc[len(rewards_df)] = [repetition + 1,episode + 1, cumulative_reward,q_value_before, q_value_after,priority]\n",
        "        print(f\"Repetition {repetition + 1}, Episode {episode + 1} Priority: {priority}\")\n",
        "\n",
        "    return rewards_per_episode\n",
        "\n",
        "# k = overall_training_neural_network()\n",
        "# print(k)\n",
        "\n"
      ]
    },
    {
      "cell_type": "code",
      "execution_count": 14,
      "metadata": {
        "id": "V7E41zC9wCl4"
      },
      "outputs": [
        {
          "name": "stderr",
          "output_type": "stream",
          "text": [
            "c:\\Users\\mrnal\\anaconda3\\envs\\final_tensor_env\\Lib\\site-packages\\gym\\utils\\passive_env_checker.py:241: DeprecationWarning: `np.bool8` is a deprecated alias for `np.bool_`.  (Deprecated NumPy 1.24)\n",
            "  if not isinstance(terminated, (bool, np.bool8)):\n"
          ]
        },
        {
          "name": "stdout",
          "output_type": "stream",
          "text": [
            "Repetition 1, Episode 1 Priority: 1\n",
            "Repetition 1, Episode 2 Priority: 1\n"
          ]
        },
        {
          "name": "stderr",
          "output_type": "stream",
          "text": [
            "c:\\Users\\mrnal\\anaconda3\\envs\\final_tensor_env\\Lib\\site-packages\\gym\\envs\\classic_control\\cartpole.py:179: UserWarning: \u001b[33mWARN: You are calling 'step()' even though this environment has already returned terminated = True. You should always call 'reset()' once you receive 'terminated = True' -- any further steps are undefined behavior.\u001b[0m\n",
            "  logger.warn(\n"
          ]
        },
        {
          "name": "stdout",
          "output_type": "stream",
          "text": [
            "Repetition 1, Episode 3 Priority: 1\n",
            "Repetition 1, Episode 4 Priority: 1\n",
            "Repetition 1, Episode 5 Priority: 1\n",
            "Repetition 1, Episode 6 Priority: 1\n"
          ]
        },
        {
          "name": "stderr",
          "output_type": "stream",
          "text": [
            "c:\\Users\\mrnal\\anaconda3\\envs\\final_tensor_env\\Lib\\site-packages\\gym\\envs\\classic_control\\cartpole.py:179: UserWarning: \u001b[33mWARN: You are calling 'step()' even though this environment has already returned terminated = True. You should always call 'reset()' once you receive 'terminated = True' -- any further steps are undefined behavior.\u001b[0m\n",
            "  logger.warn(\n"
          ]
        },
        {
          "name": "stdout",
          "output_type": "stream",
          "text": [
            "Repetition 1, Episode 7 Priority: 1\n",
            "Repetition 1, Episode 8 Priority: 1\n",
            "Repetition 1, Episode 9 Priority: 1\n",
            "Repetition 1, Episode 10 Priority: 1\n",
            "Repetition 1, Episode 11 Priority: 1\n",
            "Repetition 1, Episode 12 Priority: 1\n"
          ]
        },
        {
          "name": "stderr",
          "output_type": "stream",
          "text": [
            "c:\\Users\\mrnal\\anaconda3\\envs\\final_tensor_env\\Lib\\site-packages\\gym\\envs\\classic_control\\cartpole.py:179: UserWarning: \u001b[33mWARN: You are calling 'step()' even though this environment has already returned terminated = True. You should always call 'reset()' once you receive 'terminated = True' -- any further steps are undefined behavior.\u001b[0m\n",
            "  logger.warn(\n"
          ]
        },
        {
          "name": "stdout",
          "output_type": "stream",
          "text": [
            "Repetition 1, Episode 13 Priority: 1\n",
            "Repetition 1, Episode 14 Priority: 1\n",
            "Repetition 1, Episode 15 Priority: 1\n",
            "Repetition 1, Episode 16 Priority: 1\n",
            "Repetition 1, Episode 17 Priority: 1\n",
            "Repetition 1, Episode 18 Priority: 1\n",
            "Repetition 1, Episode 19 Priority: 1\n",
            "Repetition 1, Episode 20 Priority: 1\n",
            "Repetition 1, Episode 21 Priority: 1\n"
          ]
        },
        {
          "name": "stderr",
          "output_type": "stream",
          "text": [
            "c:\\Users\\mrnal\\anaconda3\\envs\\final_tensor_env\\Lib\\site-packages\\gym\\envs\\classic_control\\cartpole.py:179: UserWarning: \u001b[33mWARN: You are calling 'step()' even though this environment has already returned terminated = True. You should always call 'reset()' once you receive 'terminated = True' -- any further steps are undefined behavior.\u001b[0m\n",
            "  logger.warn(\n"
          ]
        },
        {
          "name": "stdout",
          "output_type": "stream",
          "text": [
            "Repetition 1, Episode 22 Priority: 1\n",
            "Repetition 1, Episode 23 Priority: 1\n",
            "Repetition 1, Episode 24 Priority: 1\n",
            "Repetition 1, Episode 25 Priority: 1\n",
            "Repetition 1, Episode 26 Priority: 1\n",
            "Repetition 1, Episode 27 Priority: 1\n"
          ]
        },
        {
          "name": "stderr",
          "output_type": "stream",
          "text": [
            "c:\\Users\\mrnal\\anaconda3\\envs\\final_tensor_env\\Lib\\site-packages\\gym\\envs\\classic_control\\cartpole.py:179: UserWarning: \u001b[33mWARN: You are calling 'step()' even though this environment has already returned terminated = True. You should always call 'reset()' once you receive 'terminated = True' -- any further steps are undefined behavior.\u001b[0m\n",
            "  logger.warn(\n"
          ]
        },
        {
          "name": "stdout",
          "output_type": "stream",
          "text": [
            "Repetition 1, Episode 28 Priority: 1\n",
            "Repetition 1, Episode 29 Priority: 1\n",
            "Repetition 1, Episode 30 Priority: 1\n",
            "Repetition 1, Episode 31 Priority: 1\n",
            "Repetition 1, Episode 32 Priority: 1\n",
            "Repetition 1, Episode 33 Priority: 1\n",
            "Repetition 1, Episode 34 Priority: 1\n",
            "Repetition 1, Episode 35 Priority: 1\n",
            "Repetition 1, Episode 36 Priority: 1\n",
            "Repetition 1, Episode 37 Priority: 1\n"
          ]
        },
        {
          "name": "stderr",
          "output_type": "stream",
          "text": [
            "c:\\Users\\mrnal\\anaconda3\\envs\\final_tensor_env\\Lib\\site-packages\\gym\\envs\\classic_control\\cartpole.py:179: UserWarning: \u001b[33mWARN: You are calling 'step()' even though this environment has already returned terminated = True. You should always call 'reset()' once you receive 'terminated = True' -- any further steps are undefined behavior.\u001b[0m\n",
            "  logger.warn(\n"
          ]
        },
        {
          "name": "stdout",
          "output_type": "stream",
          "text": [
            "Repetition 1, Episode 38 Priority: 1\n",
            "Repetition 1, Episode 39 Priority: 1\n",
            "Repetition 1, Episode 40 Priority: 1\n",
            "Repetition 1, Episode 41 Priority: 1\n",
            "Repetition 1, Episode 42 Priority: 1\n",
            "Repetition 1, Episode 43 Priority: 1\n",
            "Repetition 1, Episode 44 Priority: 1\n"
          ]
        },
        {
          "name": "stderr",
          "output_type": "stream",
          "text": [
            "c:\\Users\\mrnal\\anaconda3\\envs\\final_tensor_env\\Lib\\site-packages\\gym\\envs\\classic_control\\cartpole.py:179: UserWarning: \u001b[33mWARN: You are calling 'step()' even though this environment has already returned terminated = True. You should always call 'reset()' once you receive 'terminated = True' -- any further steps are undefined behavior.\u001b[0m\n",
            "  logger.warn(\n"
          ]
        },
        {
          "name": "stdout",
          "output_type": "stream",
          "text": [
            "Repetition 1, Episode 45 Priority: 1\n",
            "Repetition 1, Episode 46 Priority: 1\n",
            "Repetition 1, Episode 47 Priority: 1\n",
            "Repetition 1, Episode 48 Priority: 1\n",
            "Repetition 1, Episode 49 Priority: 1\n",
            "Repetition 1, Episode 50 Priority: 1\n",
            "Repetition 1, Episode 51 Priority: 1\n",
            "Repetition 1, Episode 52 Priority: 1\n"
          ]
        },
        {
          "name": "stderr",
          "output_type": "stream",
          "text": [
            "c:\\Users\\mrnal\\anaconda3\\envs\\final_tensor_env\\Lib\\site-packages\\gym\\envs\\classic_control\\cartpole.py:179: UserWarning: \u001b[33mWARN: You are calling 'step()' even though this environment has already returned terminated = True. You should always call 'reset()' once you receive 'terminated = True' -- any further steps are undefined behavior.\u001b[0m\n",
            "  logger.warn(\n"
          ]
        },
        {
          "name": "stdout",
          "output_type": "stream",
          "text": [
            "Repetition 1, Episode 53 Priority: 1\n",
            "Repetition 1, Episode 54 Priority: 1\n",
            "Repetition 1, Episode 55 Priority: 1\n",
            "Repetition 1, Episode 56 Priority: 1\n",
            "Repetition 1, Episode 57 Priority: 1\n",
            "Repetition 1, Episode 58 Priority: 1\n"
          ]
        },
        {
          "name": "stderr",
          "output_type": "stream",
          "text": [
            "c:\\Users\\mrnal\\anaconda3\\envs\\final_tensor_env\\Lib\\site-packages\\gym\\envs\\classic_control\\cartpole.py:179: UserWarning: \u001b[33mWARN: You are calling 'step()' even though this environment has already returned terminated = True. You should always call 'reset()' once you receive 'terminated = True' -- any further steps are undefined behavior.\u001b[0m\n",
            "  logger.warn(\n"
          ]
        },
        {
          "name": "stdout",
          "output_type": "stream",
          "text": [
            "Repetition 1, Episode 59 Priority: 1\n",
            "Repetition 1, Episode 60 Priority: 1\n",
            "Repetition 1, Episode 61 Priority: 1\n",
            "Repetition 1, Episode 62 Priority: 1\n",
            "Repetition 1, Episode 63 Priority: 1\n",
            "Repetition 1, Episode 64 Priority: 1\n",
            "Repetition 1, Episode 65 Priority: 1\n",
            "Repetition 1, Episode 66 Priority: 1\n",
            "Repetition 1, Episode 67 Priority: 1\n",
            "Repetition 1, Episode 68 Priority: 1\n",
            "Repetition 1, Episode 69 Priority: 1\n",
            "Repetition 1, Episode 70 Priority: 1\n"
          ]
        },
        {
          "name": "stderr",
          "output_type": "stream",
          "text": [
            "c:\\Users\\mrnal\\anaconda3\\envs\\final_tensor_env\\Lib\\site-packages\\gym\\envs\\classic_control\\cartpole.py:179: UserWarning: \u001b[33mWARN: You are calling 'step()' even though this environment has already returned terminated = True. You should always call 'reset()' once you receive 'terminated = True' -- any further steps are undefined behavior.\u001b[0m\n",
            "  logger.warn(\n"
          ]
        },
        {
          "name": "stdout",
          "output_type": "stream",
          "text": [
            "Repetition 1, Episode 71 Priority: 1\n"
          ]
        },
        {
          "name": "stderr",
          "output_type": "stream",
          "text": [
            "c:\\Users\\mrnal\\anaconda3\\envs\\final_tensor_env\\Lib\\site-packages\\gym\\envs\\classic_control\\cartpole.py:179: UserWarning: \u001b[33mWARN: You are calling 'step()' even though this environment has already returned terminated = True. You should always call 'reset()' once you receive 'terminated = True' -- any further steps are undefined behavior.\u001b[0m\n",
            "  logger.warn(\n"
          ]
        },
        {
          "name": "stdout",
          "output_type": "stream",
          "text": [
            "Repetition 1, Episode 72 Priority: 1\n",
            "Repetition 1, Episode 73 Priority: 1\n"
          ]
        },
        {
          "name": "stderr",
          "output_type": "stream",
          "text": [
            "c:\\Users\\mrnal\\anaconda3\\envs\\final_tensor_env\\Lib\\site-packages\\gym\\envs\\classic_control\\cartpole.py:179: UserWarning: \u001b[33mWARN: You are calling 'step()' even though this environment has already returned terminated = True. You should always call 'reset()' once you receive 'terminated = True' -- any further steps are undefined behavior.\u001b[0m\n",
            "  logger.warn(\n"
          ]
        },
        {
          "name": "stdout",
          "output_type": "stream",
          "text": [
            "Repetition 1, Episode 74 Priority: 1\n",
            "Repetition 1, Episode 75 Priority: 1\n",
            "Repetition 1, Episode 76 Priority: 1\n",
            "Repetition 1, Episode 77 Priority: 1\n",
            "Repetition 1, Episode 78 Priority: 1\n",
            "Repetition 1, Episode 79 Priority: 1\n",
            "Repetition 1, Episode 80 Priority: 1\n",
            "Repetition 1, Episode 81 Priority: 1\n",
            "Repetition 1, Episode 82 Priority: 1\n"
          ]
        },
        {
          "name": "stderr",
          "output_type": "stream",
          "text": [
            "c:\\Users\\mrnal\\anaconda3\\envs\\final_tensor_env\\Lib\\site-packages\\gym\\envs\\classic_control\\cartpole.py:179: UserWarning: \u001b[33mWARN: You are calling 'step()' even though this environment has already returned terminated = True. You should always call 'reset()' once you receive 'terminated = True' -- any further steps are undefined behavior.\u001b[0m\n",
            "  logger.warn(\n"
          ]
        },
        {
          "name": "stdout",
          "output_type": "stream",
          "text": [
            "Repetition 1, Episode 83 Priority: 1\n",
            "Repetition 1, Episode 84 Priority: 1\n",
            "Repetition 1, Episode 85 Priority: 1\n",
            "Repetition 1, Episode 86 Priority: 1\n",
            "Repetition 1, Episode 87 Priority: 1\n",
            "Repetition 1, Episode 88 Priority: 1\n",
            "Repetition 1, Episode 89 Priority: 1\n",
            "Repetition 1, Episode 90 Priority: 1\n"
          ]
        },
        {
          "name": "stderr",
          "output_type": "stream",
          "text": [
            "c:\\Users\\mrnal\\anaconda3\\envs\\final_tensor_env\\Lib\\site-packages\\gym\\envs\\classic_control\\cartpole.py:179: UserWarning: \u001b[33mWARN: You are calling 'step()' even though this environment has already returned terminated = True. You should always call 'reset()' once you receive 'terminated = True' -- any further steps are undefined behavior.\u001b[0m\n",
            "  logger.warn(\n"
          ]
        },
        {
          "name": "stdout",
          "output_type": "stream",
          "text": [
            "Repetition 1, Episode 91 Priority: 1\n",
            "Repetition 1, Episode 92 Priority: 1\n",
            "Repetition 1, Episode 93 Priority: 1\n",
            "Repetition 1, Episode 94 Priority: 1\n",
            "Repetition 1, Episode 95 Priority: 1\n",
            "Repetition 1, Episode 96 Priority: 1\n",
            "Repetition 1, Episode 97 Priority: 1\n"
          ]
        },
        {
          "name": "stderr",
          "output_type": "stream",
          "text": [
            "c:\\Users\\mrnal\\anaconda3\\envs\\final_tensor_env\\Lib\\site-packages\\gym\\envs\\classic_control\\cartpole.py:179: UserWarning: \u001b[33mWARN: You are calling 'step()' even though this environment has already returned terminated = True. You should always call 'reset()' once you receive 'terminated = True' -- any further steps are undefined behavior.\u001b[0m\n",
            "  logger.warn(\n"
          ]
        },
        {
          "name": "stdout",
          "output_type": "stream",
          "text": [
            "Repetition 1, Episode 98 Priority: 1\n",
            "Repetition 1, Episode 99 Priority: 1\n",
            "Repetition 1, Episode 100 Priority: 1\n",
            "Repetition 2, Episode 1 Priority: 1\n",
            "Repetition 2, Episode 2 Priority: 1\n",
            "Repetition 2, Episode 3 Priority: 1\n"
          ]
        },
        {
          "name": "stderr",
          "output_type": "stream",
          "text": [
            "c:\\Users\\mrnal\\anaconda3\\envs\\final_tensor_env\\Lib\\site-packages\\gym\\envs\\classic_control\\cartpole.py:179: UserWarning: \u001b[33mWARN: You are calling 'step()' even though this environment has already returned terminated = True. You should always call 'reset()' once you receive 'terminated = True' -- any further steps are undefined behavior.\u001b[0m\n",
            "  logger.warn(\n"
          ]
        },
        {
          "name": "stdout",
          "output_type": "stream",
          "text": [
            "Repetition 2, Episode 4 Priority: 1\n",
            "Repetition 2, Episode 5 Priority: 1\n",
            "Repetition 2, Episode 6 Priority: 1\n",
            "Repetition 2, Episode 7 Priority: 1\n"
          ]
        },
        {
          "name": "stderr",
          "output_type": "stream",
          "text": [
            "c:\\Users\\mrnal\\anaconda3\\envs\\final_tensor_env\\Lib\\site-packages\\gym\\envs\\classic_control\\cartpole.py:179: UserWarning: \u001b[33mWARN: You are calling 'step()' even though this environment has already returned terminated = True. You should always call 'reset()' once you receive 'terminated = True' -- any further steps are undefined behavior.\u001b[0m\n",
            "  logger.warn(\n"
          ]
        },
        {
          "name": "stdout",
          "output_type": "stream",
          "text": [
            "Repetition 2, Episode 8 Priority: 1\n",
            "Repetition 2, Episode 9 Priority: 1\n",
            "Repetition 2, Episode 10 Priority: 1\n",
            "Repetition 2, Episode 11 Priority: 1\n",
            "Repetition 2, Episode 12 Priority: 1\n",
            "Repetition 2, Episode 13 Priority: 1\n"
          ]
        },
        {
          "name": "stderr",
          "output_type": "stream",
          "text": [
            "c:\\Users\\mrnal\\anaconda3\\envs\\final_tensor_env\\Lib\\site-packages\\gym\\envs\\classic_control\\cartpole.py:179: UserWarning: \u001b[33mWARN: You are calling 'step()' even though this environment has already returned terminated = True. You should always call 'reset()' once you receive 'terminated = True' -- any further steps are undefined behavior.\u001b[0m\n",
            "  logger.warn(\n"
          ]
        },
        {
          "name": "stdout",
          "output_type": "stream",
          "text": [
            "Repetition 2, Episode 14 Priority: 1\n",
            "Repetition 2, Episode 15 Priority: 1\n"
          ]
        },
        {
          "name": "stderr",
          "output_type": "stream",
          "text": [
            "c:\\Users\\mrnal\\anaconda3\\envs\\final_tensor_env\\Lib\\site-packages\\gym\\envs\\classic_control\\cartpole.py:179: UserWarning: \u001b[33mWARN: You are calling 'step()' even though this environment has already returned terminated = True. You should always call 'reset()' once you receive 'terminated = True' -- any further steps are undefined behavior.\u001b[0m\n",
            "  logger.warn(\n"
          ]
        },
        {
          "name": "stdout",
          "output_type": "stream",
          "text": [
            "Repetition 2, Episode 16 Priority: 1\n",
            "Repetition 2, Episode 17 Priority: 1\n",
            "Repetition 2, Episode 18 Priority: 1\n",
            "Repetition 2, Episode 19 Priority: 1\n",
            "Repetition 2, Episode 20 Priority: 1\n",
            "Repetition 2, Episode 21 Priority: 1\n",
            "Repetition 2, Episode 22 Priority: 1\n"
          ]
        },
        {
          "name": "stderr",
          "output_type": "stream",
          "text": [
            "c:\\Users\\mrnal\\anaconda3\\envs\\final_tensor_env\\Lib\\site-packages\\gym\\envs\\classic_control\\cartpole.py:179: UserWarning: \u001b[33mWARN: You are calling 'step()' even though this environment has already returned terminated = True. You should always call 'reset()' once you receive 'terminated = True' -- any further steps are undefined behavior.\u001b[0m\n",
            "  logger.warn(\n"
          ]
        },
        {
          "name": "stdout",
          "output_type": "stream",
          "text": [
            "Repetition 2, Episode 23 Priority: 1\n",
            "Repetition 2, Episode 24 Priority: 1\n",
            "Repetition 2, Episode 25 Priority: 1\n",
            "Repetition 2, Episode 26 Priority: 1\n",
            "Repetition 2, Episode 27 Priority: 1\n",
            "Repetition 2, Episode 28 Priority: 1\n",
            "Repetition 2, Episode 29 Priority: 1\n",
            "Repetition 2, Episode 30 Priority: 1\n",
            "Repetition 2, Episode 31 Priority: 1\n",
            "Repetition 2, Episode 32 Priority: 1\n",
            "Repetition 2, Episode 33 Priority: 1\n",
            "Repetition 2, Episode 34 Priority: 1\n",
            "Repetition 2, Episode 35 Priority: 1\n"
          ]
        },
        {
          "name": "stderr",
          "output_type": "stream",
          "text": [
            "c:\\Users\\mrnal\\anaconda3\\envs\\final_tensor_env\\Lib\\site-packages\\gym\\envs\\classic_control\\cartpole.py:179: UserWarning: \u001b[33mWARN: You are calling 'step()' even though this environment has already returned terminated = True. You should always call 'reset()' once you receive 'terminated = True' -- any further steps are undefined behavior.\u001b[0m\n",
            "  logger.warn(\n"
          ]
        },
        {
          "name": "stdout",
          "output_type": "stream",
          "text": [
            "Repetition 2, Episode 36 Priority: 1\n",
            "Repetition 2, Episode 37 Priority: 1\n",
            "Repetition 2, Episode 38 Priority: 1\n",
            "Repetition 2, Episode 39 Priority: 1\n",
            "Repetition 2, Episode 40 Priority: 1\n"
          ]
        },
        {
          "name": "stderr",
          "output_type": "stream",
          "text": [
            "c:\\Users\\mrnal\\anaconda3\\envs\\final_tensor_env\\Lib\\site-packages\\gym\\envs\\classic_control\\cartpole.py:179: UserWarning: \u001b[33mWARN: You are calling 'step()' even though this environment has already returned terminated = True. You should always call 'reset()' once you receive 'terminated = True' -- any further steps are undefined behavior.\u001b[0m\n",
            "  logger.warn(\n"
          ]
        },
        {
          "name": "stdout",
          "output_type": "stream",
          "text": [
            "Repetition 2, Episode 41 Priority: 1\n",
            "Repetition 2, Episode 42 Priority: 1\n",
            "Repetition 2, Episode 43 Priority: 1\n"
          ]
        },
        {
          "name": "stderr",
          "output_type": "stream",
          "text": [
            "c:\\Users\\mrnal\\anaconda3\\envs\\final_tensor_env\\Lib\\site-packages\\gym\\envs\\classic_control\\cartpole.py:179: UserWarning: \u001b[33mWARN: You are calling 'step()' even though this environment has already returned terminated = True. You should always call 'reset()' once you receive 'terminated = True' -- any further steps are undefined behavior.\u001b[0m\n",
            "  logger.warn(\n"
          ]
        },
        {
          "name": "stdout",
          "output_type": "stream",
          "text": [
            "Repetition 2, Episode 44 Priority: 1\n",
            "Repetition 2, Episode 45 Priority: 1\n",
            "Repetition 2, Episode 46 Priority: 1\n",
            "Repetition 2, Episode 47 Priority: 1\n",
            "Repetition 2, Episode 48 Priority: 1\n",
            "Repetition 2, Episode 49 Priority: 1\n"
          ]
        },
        {
          "name": "stderr",
          "output_type": "stream",
          "text": [
            "c:\\Users\\mrnal\\anaconda3\\envs\\final_tensor_env\\Lib\\site-packages\\gym\\envs\\classic_control\\cartpole.py:179: UserWarning: \u001b[33mWARN: You are calling 'step()' even though this environment has already returned terminated = True. You should always call 'reset()' once you receive 'terminated = True' -- any further steps are undefined behavior.\u001b[0m\n",
            "  logger.warn(\n"
          ]
        },
        {
          "name": "stdout",
          "output_type": "stream",
          "text": [
            "Repetition 2, Episode 50 Priority: 1\n",
            "Repetition 2, Episode 51 Priority: 1\n"
          ]
        },
        {
          "name": "stderr",
          "output_type": "stream",
          "text": [
            "c:\\Users\\mrnal\\anaconda3\\envs\\final_tensor_env\\Lib\\site-packages\\gym\\envs\\classic_control\\cartpole.py:179: UserWarning: \u001b[33mWARN: You are calling 'step()' even though this environment has already returned terminated = True. You should always call 'reset()' once you receive 'terminated = True' -- any further steps are undefined behavior.\u001b[0m\n",
            "  logger.warn(\n"
          ]
        },
        {
          "name": "stdout",
          "output_type": "stream",
          "text": [
            "Repetition 2, Episode 52 Priority: 1\n",
            "Repetition 2, Episode 53 Priority: 1\n",
            "Repetition 2, Episode 54 Priority: 1\n",
            "Repetition 2, Episode 55 Priority: 1\n",
            "Repetition 2, Episode 56 Priority: 1\n"
          ]
        },
        {
          "name": "stderr",
          "output_type": "stream",
          "text": [
            "c:\\Users\\mrnal\\anaconda3\\envs\\final_tensor_env\\Lib\\site-packages\\gym\\envs\\classic_control\\cartpole.py:179: UserWarning: \u001b[33mWARN: You are calling 'step()' even though this environment has already returned terminated = True. You should always call 'reset()' once you receive 'terminated = True' -- any further steps are undefined behavior.\u001b[0m\n",
            "  logger.warn(\n"
          ]
        },
        {
          "name": "stdout",
          "output_type": "stream",
          "text": [
            "Repetition 2, Episode 57 Priority: 1\n"
          ]
        },
        {
          "name": "stderr",
          "output_type": "stream",
          "text": [
            "c:\\Users\\mrnal\\anaconda3\\envs\\final_tensor_env\\Lib\\site-packages\\gym\\envs\\classic_control\\cartpole.py:179: UserWarning: \u001b[33mWARN: You are calling 'step()' even though this environment has already returned terminated = True. You should always call 'reset()' once you receive 'terminated = True' -- any further steps are undefined behavior.\u001b[0m\n",
            "  logger.warn(\n"
          ]
        },
        {
          "name": "stdout",
          "output_type": "stream",
          "text": [
            "Repetition 2, Episode 58 Priority: 1\n",
            "Repetition 2, Episode 59 Priority: 1\n",
            "Repetition 2, Episode 60 Priority: 1\n"
          ]
        },
        {
          "name": "stderr",
          "output_type": "stream",
          "text": [
            "c:\\Users\\mrnal\\anaconda3\\envs\\final_tensor_env\\Lib\\site-packages\\gym\\envs\\classic_control\\cartpole.py:179: UserWarning: \u001b[33mWARN: You are calling 'step()' even though this environment has already returned terminated = True. You should always call 'reset()' once you receive 'terminated = True' -- any further steps are undefined behavior.\u001b[0m\n",
            "  logger.warn(\n"
          ]
        },
        {
          "name": "stdout",
          "output_type": "stream",
          "text": [
            "Repetition 2, Episode 61 Priority: 1\n",
            "Repetition 2, Episode 62 Priority: 1\n"
          ]
        },
        {
          "name": "stderr",
          "output_type": "stream",
          "text": [
            "c:\\Users\\mrnal\\anaconda3\\envs\\final_tensor_env\\Lib\\site-packages\\gym\\envs\\classic_control\\cartpole.py:179: UserWarning: \u001b[33mWARN: You are calling 'step()' even though this environment has already returned terminated = True. You should always call 'reset()' once you receive 'terminated = True' -- any further steps are undefined behavior.\u001b[0m\n",
            "  logger.warn(\n"
          ]
        },
        {
          "name": "stdout",
          "output_type": "stream",
          "text": [
            "Repetition 2, Episode 63 Priority: 1\n"
          ]
        },
        {
          "name": "stderr",
          "output_type": "stream",
          "text": [
            "c:\\Users\\mrnal\\anaconda3\\envs\\final_tensor_env\\Lib\\site-packages\\gym\\envs\\classic_control\\cartpole.py:179: UserWarning: \u001b[33mWARN: You are calling 'step()' even though this environment has already returned terminated = True. You should always call 'reset()' once you receive 'terminated = True' -- any further steps are undefined behavior.\u001b[0m\n",
            "  logger.warn(\n"
          ]
        },
        {
          "name": "stdout",
          "output_type": "stream",
          "text": [
            "Repetition 2, Episode 64 Priority: 1\n",
            "Repetition 2, Episode 65 Priority: 1\n",
            "Repetition 2, Episode 66 Priority: 1\n",
            "Repetition 2, Episode 67 Priority: 1\n",
            "Repetition 2, Episode 68 Priority: 1\n",
            "Repetition 2, Episode 69 Priority: 1\n",
            "Repetition 2, Episode 70 Priority: 1\n",
            "Repetition 2, Episode 71 Priority: 1\n",
            "Repetition 2, Episode 72 Priority: 1\n"
          ]
        },
        {
          "name": "stderr",
          "output_type": "stream",
          "text": [
            "c:\\Users\\mrnal\\anaconda3\\envs\\final_tensor_env\\Lib\\site-packages\\gym\\envs\\classic_control\\cartpole.py:179: UserWarning: \u001b[33mWARN: You are calling 'step()' even though this environment has already returned terminated = True. You should always call 'reset()' once you receive 'terminated = True' -- any further steps are undefined behavior.\u001b[0m\n",
            "  logger.warn(\n"
          ]
        },
        {
          "name": "stdout",
          "output_type": "stream",
          "text": [
            "Repetition 2, Episode 73 Priority: 1\n"
          ]
        },
        {
          "name": "stderr",
          "output_type": "stream",
          "text": [
            "c:\\Users\\mrnal\\anaconda3\\envs\\final_tensor_env\\Lib\\site-packages\\gym\\envs\\classic_control\\cartpole.py:179: UserWarning: \u001b[33mWARN: You are calling 'step()' even though this environment has already returned terminated = True. You should always call 'reset()' once you receive 'terminated = True' -- any further steps are undefined behavior.\u001b[0m\n",
            "  logger.warn(\n"
          ]
        },
        {
          "name": "stdout",
          "output_type": "stream",
          "text": [
            "Repetition 2, Episode 74 Priority: 1\n",
            "Repetition 2, Episode 75 Priority: 1\n",
            "Repetition 2, Episode 76 Priority: 1\n",
            "Repetition 2, Episode 77 Priority: 1\n",
            "Repetition 2, Episode 78 Priority: 1\n",
            "Repetition 2, Episode 79 Priority: 1\n",
            "Repetition 2, Episode 80 Priority: 1\n",
            "Repetition 2, Episode 81 Priority: 1\n",
            "Repetition 2, Episode 82 Priority: 1\n",
            "Repetition 2, Episode 83 Priority: 1\n"
          ]
        },
        {
          "name": "stderr",
          "output_type": "stream",
          "text": [
            "c:\\Users\\mrnal\\anaconda3\\envs\\final_tensor_env\\Lib\\site-packages\\gym\\envs\\classic_control\\cartpole.py:179: UserWarning: \u001b[33mWARN: You are calling 'step()' even though this environment has already returned terminated = True. You should always call 'reset()' once you receive 'terminated = True' -- any further steps are undefined behavior.\u001b[0m\n",
            "  logger.warn(\n"
          ]
        },
        {
          "name": "stdout",
          "output_type": "stream",
          "text": [
            "Repetition 2, Episode 84 Priority: 1\n",
            "Repetition 2, Episode 85 Priority: 1\n",
            "Repetition 2, Episode 86 Priority: 1\n",
            "Repetition 2, Episode 87 Priority: 1\n",
            "Repetition 2, Episode 88 Priority: 1\n",
            "Repetition 2, Episode 89 Priority: 1\n",
            "Repetition 2, Episode 90 Priority: 1\n",
            "Repetition 2, Episode 91 Priority: 1\n",
            "Repetition 2, Episode 92 Priority: 1\n",
            "Repetition 2, Episode 93 Priority: 1\n",
            "Repetition 2, Episode 94 Priority: 1\n",
            "Repetition 2, Episode 95 Priority: 1\n",
            "Repetition 2, Episode 96 Priority: 1\n",
            "Repetition 2, Episode 97 Priority: 1\n"
          ]
        },
        {
          "name": "stderr",
          "output_type": "stream",
          "text": [
            "c:\\Users\\mrnal\\anaconda3\\envs\\final_tensor_env\\Lib\\site-packages\\gym\\envs\\classic_control\\cartpole.py:179: UserWarning: \u001b[33mWARN: You are calling 'step()' even though this environment has already returned terminated = True. You should always call 'reset()' once you receive 'terminated = True' -- any further steps are undefined behavior.\u001b[0m\n",
            "  logger.warn(\n"
          ]
        },
        {
          "name": "stdout",
          "output_type": "stream",
          "text": [
            "Repetition 2, Episode 98 Priority: 1\n",
            "Repetition 2, Episode 99 Priority: 1\n",
            "Repetition 2, Episode 100 Priority: 1\n",
            "Repetition 3, Episode 1 Priority: 1\n",
            "Repetition 3, Episode 2 Priority: 1\n",
            "Repetition 3, Episode 3 Priority: 1\n",
            "Repetition 3, Episode 4 Priority: 1\n",
            "Repetition 3, Episode 5 Priority: 1\n",
            "Repetition 3, Episode 6 Priority: 1\n",
            "Repetition 3, Episode 7 Priority: 1\n",
            "Repetition 3, Episode 8 Priority: 1\n",
            "Repetition 3, Episode 9 Priority: 1\n",
            "Repetition 3, Episode 10 Priority: 1\n"
          ]
        },
        {
          "name": "stderr",
          "output_type": "stream",
          "text": [
            "c:\\Users\\mrnal\\anaconda3\\envs\\final_tensor_env\\Lib\\site-packages\\gym\\envs\\classic_control\\cartpole.py:179: UserWarning: \u001b[33mWARN: You are calling 'step()' even though this environment has already returned terminated = True. You should always call 'reset()' once you receive 'terminated = True' -- any further steps are undefined behavior.\u001b[0m\n",
            "  logger.warn(\n"
          ]
        },
        {
          "name": "stdout",
          "output_type": "stream",
          "text": [
            "Repetition 3, Episode 11 Priority: 1\n",
            "Repetition 3, Episode 12 Priority: 1\n",
            "Repetition 3, Episode 13 Priority: 1\n"
          ]
        },
        {
          "name": "stderr",
          "output_type": "stream",
          "text": [
            "c:\\Users\\mrnal\\anaconda3\\envs\\final_tensor_env\\Lib\\site-packages\\gym\\envs\\classic_control\\cartpole.py:179: UserWarning: \u001b[33mWARN: You are calling 'step()' even though this environment has already returned terminated = True. You should always call 'reset()' once you receive 'terminated = True' -- any further steps are undefined behavior.\u001b[0m\n",
            "  logger.warn(\n"
          ]
        },
        {
          "name": "stdout",
          "output_type": "stream",
          "text": [
            "Repetition 3, Episode 14 Priority: 1\n",
            "Repetition 3, Episode 15 Priority: 1\n"
          ]
        },
        {
          "name": "stderr",
          "output_type": "stream",
          "text": [
            "c:\\Users\\mrnal\\anaconda3\\envs\\final_tensor_env\\Lib\\site-packages\\gym\\envs\\classic_control\\cartpole.py:179: UserWarning: \u001b[33mWARN: You are calling 'step()' even though this environment has already returned terminated = True. You should always call 'reset()' once you receive 'terminated = True' -- any further steps are undefined behavior.\u001b[0m\n",
            "  logger.warn(\n"
          ]
        },
        {
          "name": "stdout",
          "output_type": "stream",
          "text": [
            "Repetition 3, Episode 16 Priority: 1\n",
            "Repetition 3, Episode 17 Priority: 1\n",
            "Repetition 3, Episode 18 Priority: 1\n",
            "Repetition 3, Episode 19 Priority: 1\n",
            "Repetition 3, Episode 20 Priority: 1\n",
            "Repetition 3, Episode 21 Priority: 1\n",
            "Repetition 3, Episode 22 Priority: 1\n",
            "Repetition 3, Episode 23 Priority: 1\n",
            "Repetition 3, Episode 24 Priority: 1\n",
            "Repetition 3, Episode 25 Priority: 1\n",
            "Repetition 3, Episode 26 Priority: 1\n"
          ]
        },
        {
          "name": "stderr",
          "output_type": "stream",
          "text": [
            "c:\\Users\\mrnal\\anaconda3\\envs\\final_tensor_env\\Lib\\site-packages\\gym\\envs\\classic_control\\cartpole.py:179: UserWarning: \u001b[33mWARN: You are calling 'step()' even though this environment has already returned terminated = True. You should always call 'reset()' once you receive 'terminated = True' -- any further steps are undefined behavior.\u001b[0m\n",
            "  logger.warn(\n"
          ]
        },
        {
          "name": "stdout",
          "output_type": "stream",
          "text": [
            "Repetition 3, Episode 27 Priority: 1\n",
            "Repetition 3, Episode 28 Priority: 1\n",
            "Repetition 3, Episode 29 Priority: 1\n",
            "Repetition 3, Episode 30 Priority: 1\n",
            "Repetition 3, Episode 31 Priority: 1\n",
            "Repetition 3, Episode 32 Priority: 1\n",
            "Repetition 3, Episode 33 Priority: 1\n",
            "Repetition 3, Episode 34 Priority: 1\n",
            "Repetition 3, Episode 35 Priority: 1\n",
            "Repetition 3, Episode 36 Priority: 1\n",
            "Repetition 3, Episode 37 Priority: 1\n",
            "Repetition 3, Episode 38 Priority: 1\n",
            "Repetition 3, Episode 39 Priority: 1\n",
            "Repetition 3, Episode 40 Priority: 1\n",
            "Repetition 3, Episode 41 Priority: 1\n",
            "Repetition 3, Episode 42 Priority: 1\n",
            "Repetition 3, Episode 43 Priority: 1\n",
            "Repetition 3, Episode 44 Priority: 1\n"
          ]
        },
        {
          "name": "stderr",
          "output_type": "stream",
          "text": [
            "c:\\Users\\mrnal\\anaconda3\\envs\\final_tensor_env\\Lib\\site-packages\\gym\\envs\\classic_control\\cartpole.py:179: UserWarning: \u001b[33mWARN: You are calling 'step()' even though this environment has already returned terminated = True. You should always call 'reset()' once you receive 'terminated = True' -- any further steps are undefined behavior.\u001b[0m\n",
            "  logger.warn(\n"
          ]
        },
        {
          "name": "stdout",
          "output_type": "stream",
          "text": [
            "Repetition 3, Episode 45 Priority: 1\n",
            "Repetition 3, Episode 46 Priority: 1\n",
            "Repetition 3, Episode 47 Priority: 1\n",
            "Repetition 3, Episode 48 Priority: 1\n"
          ]
        },
        {
          "name": "stderr",
          "output_type": "stream",
          "text": [
            "c:\\Users\\mrnal\\anaconda3\\envs\\final_tensor_env\\Lib\\site-packages\\gym\\envs\\classic_control\\cartpole.py:179: UserWarning: \u001b[33mWARN: You are calling 'step()' even though this environment has already returned terminated = True. You should always call 'reset()' once you receive 'terminated = True' -- any further steps are undefined behavior.\u001b[0m\n",
            "  logger.warn(\n"
          ]
        },
        {
          "name": "stdout",
          "output_type": "stream",
          "text": [
            "Repetition 3, Episode 49 Priority: 1\n",
            "Repetition 3, Episode 50 Priority: 1\n"
          ]
        },
        {
          "name": "stderr",
          "output_type": "stream",
          "text": [
            "c:\\Users\\mrnal\\anaconda3\\envs\\final_tensor_env\\Lib\\site-packages\\gym\\envs\\classic_control\\cartpole.py:179: UserWarning: \u001b[33mWARN: You are calling 'step()' even though this environment has already returned terminated = True. You should always call 'reset()' once you receive 'terminated = True' -- any further steps are undefined behavior.\u001b[0m\n",
            "  logger.warn(\n"
          ]
        },
        {
          "name": "stdout",
          "output_type": "stream",
          "text": [
            "Repetition 3, Episode 51 Priority: 1\n",
            "Repetition 3, Episode 52 Priority: 1\n",
            "Repetition 3, Episode 53 Priority: 1\n"
          ]
        },
        {
          "name": "stderr",
          "output_type": "stream",
          "text": [
            "c:\\Users\\mrnal\\anaconda3\\envs\\final_tensor_env\\Lib\\site-packages\\gym\\envs\\classic_control\\cartpole.py:179: UserWarning: \u001b[33mWARN: You are calling 'step()' even though this environment has already returned terminated = True. You should always call 'reset()' once you receive 'terminated = True' -- any further steps are undefined behavior.\u001b[0m\n",
            "  logger.warn(\n"
          ]
        },
        {
          "name": "stdout",
          "output_type": "stream",
          "text": [
            "Repetition 3, Episode 54 Priority: 1\n"
          ]
        },
        {
          "name": "stderr",
          "output_type": "stream",
          "text": [
            "c:\\Users\\mrnal\\anaconda3\\envs\\final_tensor_env\\Lib\\site-packages\\gym\\envs\\classic_control\\cartpole.py:179: UserWarning: \u001b[33mWARN: You are calling 'step()' even though this environment has already returned terminated = True. You should always call 'reset()' once you receive 'terminated = True' -- any further steps are undefined behavior.\u001b[0m\n",
            "  logger.warn(\n"
          ]
        },
        {
          "name": "stdout",
          "output_type": "stream",
          "text": [
            "Repetition 3, Episode 55 Priority: 1\n",
            "Repetition 3, Episode 56 Priority: 1\n",
            "Repetition 3, Episode 57 Priority: 1\n",
            "Repetition 3, Episode 58 Priority: 1\n",
            "Repetition 3, Episode 59 Priority: 1\n",
            "Repetition 3, Episode 60 Priority: 1\n",
            "Repetition 3, Episode 61 Priority: 1\n",
            "Repetition 3, Episode 62 Priority: 1\n"
          ]
        },
        {
          "name": "stderr",
          "output_type": "stream",
          "text": [
            "c:\\Users\\mrnal\\anaconda3\\envs\\final_tensor_env\\Lib\\site-packages\\gym\\envs\\classic_control\\cartpole.py:179: UserWarning: \u001b[33mWARN: You are calling 'step()' even though this environment has already returned terminated = True. You should always call 'reset()' once you receive 'terminated = True' -- any further steps are undefined behavior.\u001b[0m\n",
            "  logger.warn(\n"
          ]
        },
        {
          "name": "stdout",
          "output_type": "stream",
          "text": [
            "Repetition 3, Episode 63 Priority: 1\n",
            "Repetition 3, Episode 64 Priority: 1\n",
            "Repetition 3, Episode 65 Priority: 1\n",
            "Repetition 3, Episode 66 Priority: 1\n",
            "Repetition 3, Episode 67 Priority: 1\n",
            "Repetition 3, Episode 68 Priority: 1\n",
            "Repetition 3, Episode 69 Priority: 1\n"
          ]
        },
        {
          "name": "stderr",
          "output_type": "stream",
          "text": [
            "c:\\Users\\mrnal\\anaconda3\\envs\\final_tensor_env\\Lib\\site-packages\\gym\\envs\\classic_control\\cartpole.py:179: UserWarning: \u001b[33mWARN: You are calling 'step()' even though this environment has already returned terminated = True. You should always call 'reset()' once you receive 'terminated = True' -- any further steps are undefined behavior.\u001b[0m\n",
            "  logger.warn(\n"
          ]
        },
        {
          "name": "stdout",
          "output_type": "stream",
          "text": [
            "Repetition 3, Episode 70 Priority: 1\n",
            "Repetition 3, Episode 71 Priority: 1\n",
            "Repetition 3, Episode 72 Priority: 1\n",
            "Repetition 3, Episode 73 Priority: 1\n",
            "Repetition 3, Episode 74 Priority: 1\n",
            "Repetition 3, Episode 75 Priority: 1\n",
            "Repetition 3, Episode 76 Priority: 1\n",
            "Repetition 3, Episode 77 Priority: 1\n",
            "Repetition 3, Episode 78 Priority: 1\n",
            "Repetition 3, Episode 79 Priority: 1\n",
            "Repetition 3, Episode 80 Priority: 1\n",
            "Repetition 3, Episode 81 Priority: 1\n",
            "Repetition 3, Episode 82 Priority: 1\n",
            "Repetition 3, Episode 83 Priority: 1\n"
          ]
        },
        {
          "name": "stderr",
          "output_type": "stream",
          "text": [
            "c:\\Users\\mrnal\\anaconda3\\envs\\final_tensor_env\\Lib\\site-packages\\gym\\envs\\classic_control\\cartpole.py:179: UserWarning: \u001b[33mWARN: You are calling 'step()' even though this environment has already returned terminated = True. You should always call 'reset()' once you receive 'terminated = True' -- any further steps are undefined behavior.\u001b[0m\n",
            "  logger.warn(\n"
          ]
        },
        {
          "name": "stdout",
          "output_type": "stream",
          "text": [
            "Repetition 3, Episode 84 Priority: 1\n",
            "Repetition 3, Episode 85 Priority: 1\n",
            "Repetition 3, Episode 86 Priority: 1\n",
            "Repetition 3, Episode 87 Priority: 1\n",
            "Repetition 3, Episode 88 Priority: 1\n",
            "Repetition 3, Episode 89 Priority: 1\n"
          ]
        },
        {
          "name": "stderr",
          "output_type": "stream",
          "text": [
            "c:\\Users\\mrnal\\anaconda3\\envs\\final_tensor_env\\Lib\\site-packages\\gym\\envs\\classic_control\\cartpole.py:179: UserWarning: \u001b[33mWARN: You are calling 'step()' even though this environment has already returned terminated = True. You should always call 'reset()' once you receive 'terminated = True' -- any further steps are undefined behavior.\u001b[0m\n",
            "  logger.warn(\n"
          ]
        },
        {
          "name": "stdout",
          "output_type": "stream",
          "text": [
            "Repetition 3, Episode 90 Priority: 1\n",
            "Repetition 3, Episode 91 Priority: 1\n",
            "Repetition 3, Episode 92 Priority: 1\n",
            "Repetition 3, Episode 93 Priority: 1\n",
            "Repetition 3, Episode 94 Priority: 1\n",
            "Repetition 3, Episode 95 Priority: 1\n"
          ]
        },
        {
          "name": "stderr",
          "output_type": "stream",
          "text": [
            "c:\\Users\\mrnal\\anaconda3\\envs\\final_tensor_env\\Lib\\site-packages\\gym\\envs\\classic_control\\cartpole.py:179: UserWarning: \u001b[33mWARN: You are calling 'step()' even though this environment has already returned terminated = True. You should always call 'reset()' once you receive 'terminated = True' -- any further steps are undefined behavior.\u001b[0m\n",
            "  logger.warn(\n"
          ]
        },
        {
          "name": "stdout",
          "output_type": "stream",
          "text": [
            "Repetition 3, Episode 96 Priority: 1\n",
            "Repetition 3, Episode 97 Priority: 1\n",
            "Repetition 3, Episode 98 Priority: 1\n",
            "Repetition 3, Episode 99 Priority: 1\n",
            "Repetition 3, Episode 100 Priority: 1\n"
          ]
        },
        {
          "name": "stderr",
          "output_type": "stream",
          "text": [
            "c:\\Users\\mrnal\\anaconda3\\envs\\final_tensor_env\\Lib\\site-packages\\gym\\envs\\classic_control\\cartpole.py:179: UserWarning: \u001b[33mWARN: You are calling 'step()' even though this environment has already returned terminated = True. You should always call 'reset()' once you receive 'terminated = True' -- any further steps are undefined behavior.\u001b[0m\n",
            "  logger.warn(\n"
          ]
        },
        {
          "name": "stdout",
          "output_type": "stream",
          "text": [
            "Repetition 4, Episode 1 Priority: 1\n"
          ]
        },
        {
          "name": "stderr",
          "output_type": "stream",
          "text": [
            "c:\\Users\\mrnal\\anaconda3\\envs\\final_tensor_env\\Lib\\site-packages\\gym\\envs\\classic_control\\cartpole.py:179: UserWarning: \u001b[33mWARN: You are calling 'step()' even though this environment has already returned terminated = True. You should always call 'reset()' once you receive 'terminated = True' -- any further steps are undefined behavior.\u001b[0m\n",
            "  logger.warn(\n"
          ]
        },
        {
          "name": "stdout",
          "output_type": "stream",
          "text": [
            "Repetition 4, Episode 2 Priority: 1\n",
            "Repetition 4, Episode 3 Priority: 1\n",
            "Repetition 4, Episode 4 Priority: 1\n",
            "Repetition 4, Episode 5 Priority: 1\n",
            "Repetition 4, Episode 6 Priority: 1\n",
            "Repetition 4, Episode 7 Priority: 1\n",
            "Repetition 4, Episode 8 Priority: 1\n",
            "Repetition 4, Episode 9 Priority: 1\n",
            "Repetition 4, Episode 10 Priority: 1\n",
            "Repetition 4, Episode 11 Priority: 1\n",
            "Repetition 4, Episode 12 Priority: 1\n",
            "Repetition 4, Episode 13 Priority: 1\n",
            "Repetition 4, Episode 14 Priority: 1\n"
          ]
        },
        {
          "name": "stderr",
          "output_type": "stream",
          "text": [
            "c:\\Users\\mrnal\\anaconda3\\envs\\final_tensor_env\\Lib\\site-packages\\gym\\envs\\classic_control\\cartpole.py:179: UserWarning: \u001b[33mWARN: You are calling 'step()' even though this environment has already returned terminated = True. You should always call 'reset()' once you receive 'terminated = True' -- any further steps are undefined behavior.\u001b[0m\n",
            "  logger.warn(\n"
          ]
        },
        {
          "name": "stdout",
          "output_type": "stream",
          "text": [
            "Repetition 4, Episode 15 Priority: 1\n",
            "Repetition 4, Episode 16 Priority: 1\n",
            "Repetition 4, Episode 17 Priority: 1\n",
            "Repetition 4, Episode 18 Priority: 1\n"
          ]
        },
        {
          "name": "stderr",
          "output_type": "stream",
          "text": [
            "c:\\Users\\mrnal\\anaconda3\\envs\\final_tensor_env\\Lib\\site-packages\\gym\\envs\\classic_control\\cartpole.py:179: UserWarning: \u001b[33mWARN: You are calling 'step()' even though this environment has already returned terminated = True. You should always call 'reset()' once you receive 'terminated = True' -- any further steps are undefined behavior.\u001b[0m\n",
            "  logger.warn(\n"
          ]
        },
        {
          "name": "stdout",
          "output_type": "stream",
          "text": [
            "Repetition 4, Episode 19 Priority: 1\n",
            "Repetition 4, Episode 20 Priority: 1\n",
            "Repetition 4, Episode 21 Priority: 1\n"
          ]
        },
        {
          "name": "stderr",
          "output_type": "stream",
          "text": [
            "c:\\Users\\mrnal\\anaconda3\\envs\\final_tensor_env\\Lib\\site-packages\\gym\\envs\\classic_control\\cartpole.py:179: UserWarning: \u001b[33mWARN: You are calling 'step()' even though this environment has already returned terminated = True. You should always call 'reset()' once you receive 'terminated = True' -- any further steps are undefined behavior.\u001b[0m\n",
            "  logger.warn(\n"
          ]
        },
        {
          "name": "stdout",
          "output_type": "stream",
          "text": [
            "Repetition 4, Episode 22 Priority: 1\n",
            "Repetition 4, Episode 23 Priority: 1\n",
            "Repetition 4, Episode 24 Priority: 1\n",
            "Repetition 4, Episode 25 Priority: 1\n",
            "Repetition 4, Episode 26 Priority: 1\n",
            "Repetition 4, Episode 27 Priority: 1\n",
            "Repetition 4, Episode 28 Priority: 1\n",
            "Repetition 4, Episode 29 Priority: 1\n",
            "Repetition 4, Episode 30 Priority: 1\n",
            "Repetition 4, Episode 31 Priority: 1\n",
            "Repetition 4, Episode 32 Priority: 1\n",
            "Repetition 4, Episode 33 Priority: 1\n",
            "Repetition 4, Episode 34 Priority: 1\n",
            "Repetition 4, Episode 35 Priority: 1\n",
            "Repetition 4, Episode 36 Priority: 1\n",
            "Repetition 4, Episode 37 Priority: 1\n"
          ]
        },
        {
          "name": "stderr",
          "output_type": "stream",
          "text": [
            "c:\\Users\\mrnal\\anaconda3\\envs\\final_tensor_env\\Lib\\site-packages\\gym\\envs\\classic_control\\cartpole.py:179: UserWarning: \u001b[33mWARN: You are calling 'step()' even though this environment has already returned terminated = True. You should always call 'reset()' once you receive 'terminated = True' -- any further steps are undefined behavior.\u001b[0m\n",
            "  logger.warn(\n"
          ]
        },
        {
          "name": "stdout",
          "output_type": "stream",
          "text": [
            "Repetition 4, Episode 38 Priority: 1\n",
            "Repetition 4, Episode 39 Priority: 1\n",
            "Repetition 4, Episode 40 Priority: 1\n",
            "Repetition 4, Episode 41 Priority: 1\n",
            "Repetition 4, Episode 42 Priority: 1\n",
            "Repetition 4, Episode 43 Priority: 1\n",
            "Repetition 4, Episode 44 Priority: 1\n",
            "Repetition 4, Episode 45 Priority: 1\n",
            "Repetition 4, Episode 46 Priority: 1\n",
            "Repetition 4, Episode 47 Priority: 1\n",
            "Repetition 4, Episode 48 Priority: 1\n",
            "Repetition 4, Episode 49 Priority: 1\n",
            "Repetition 4, Episode 50 Priority: 1\n"
          ]
        },
        {
          "name": "stderr",
          "output_type": "stream",
          "text": [
            "c:\\Users\\mrnal\\anaconda3\\envs\\final_tensor_env\\Lib\\site-packages\\gym\\envs\\classic_control\\cartpole.py:179: UserWarning: \u001b[33mWARN: You are calling 'step()' even though this environment has already returned terminated = True. You should always call 'reset()' once you receive 'terminated = True' -- any further steps are undefined behavior.\u001b[0m\n",
            "  logger.warn(\n"
          ]
        },
        {
          "name": "stdout",
          "output_type": "stream",
          "text": [
            "Repetition 4, Episode 51 Priority: 1\n",
            "Repetition 4, Episode 52 Priority: 1\n",
            "Repetition 4, Episode 53 Priority: 1\n",
            "Repetition 4, Episode 54 Priority: 1\n",
            "Repetition 4, Episode 55 Priority: 1\n",
            "Repetition 4, Episode 56 Priority: 1\n",
            "Repetition 4, Episode 57 Priority: 1\n",
            "Repetition 4, Episode 58 Priority: 1\n",
            "Repetition 4, Episode 59 Priority: 1\n",
            "Repetition 4, Episode 60 Priority: 1\n"
          ]
        },
        {
          "name": "stderr",
          "output_type": "stream",
          "text": [
            "c:\\Users\\mrnal\\anaconda3\\envs\\final_tensor_env\\Lib\\site-packages\\gym\\envs\\classic_control\\cartpole.py:179: UserWarning: \u001b[33mWARN: You are calling 'step()' even though this environment has already returned terminated = True. You should always call 'reset()' once you receive 'terminated = True' -- any further steps are undefined behavior.\u001b[0m\n",
            "  logger.warn(\n"
          ]
        },
        {
          "name": "stdout",
          "output_type": "stream",
          "text": [
            "Repetition 4, Episode 61 Priority: 1\n",
            "Repetition 4, Episode 62 Priority: 1\n",
            "Repetition 4, Episode 63 Priority: 1\n",
            "Repetition 4, Episode 64 Priority: 1\n",
            "Repetition 4, Episode 65 Priority: 1\n",
            "Repetition 4, Episode 66 Priority: 1\n",
            "Repetition 4, Episode 67 Priority: 1\n",
            "Repetition 4, Episode 68 Priority: 1\n",
            "Repetition 4, Episode 69 Priority: 1\n"
          ]
        },
        {
          "name": "stderr",
          "output_type": "stream",
          "text": [
            "c:\\Users\\mrnal\\anaconda3\\envs\\final_tensor_env\\Lib\\site-packages\\gym\\envs\\classic_control\\cartpole.py:179: UserWarning: \u001b[33mWARN: You are calling 'step()' even though this environment has already returned terminated = True. You should always call 'reset()' once you receive 'terminated = True' -- any further steps are undefined behavior.\u001b[0m\n",
            "  logger.warn(\n"
          ]
        },
        {
          "name": "stdout",
          "output_type": "stream",
          "text": [
            "Repetition 4, Episode 70 Priority: 1\n"
          ]
        },
        {
          "name": "stderr",
          "output_type": "stream",
          "text": [
            "c:\\Users\\mrnal\\anaconda3\\envs\\final_tensor_env\\Lib\\site-packages\\gym\\envs\\classic_control\\cartpole.py:179: UserWarning: \u001b[33mWARN: You are calling 'step()' even though this environment has already returned terminated = True. You should always call 'reset()' once you receive 'terminated = True' -- any further steps are undefined behavior.\u001b[0m\n",
            "  logger.warn(\n"
          ]
        },
        {
          "name": "stdout",
          "output_type": "stream",
          "text": [
            "Repetition 4, Episode 71 Priority: 1\n",
            "Repetition 4, Episode 72 Priority: 1\n"
          ]
        },
        {
          "name": "stderr",
          "output_type": "stream",
          "text": [
            "c:\\Users\\mrnal\\anaconda3\\envs\\final_tensor_env\\Lib\\site-packages\\gym\\envs\\classic_control\\cartpole.py:179: UserWarning: \u001b[33mWARN: You are calling 'step()' even though this environment has already returned terminated = True. You should always call 'reset()' once you receive 'terminated = True' -- any further steps are undefined behavior.\u001b[0m\n",
            "  logger.warn(\n"
          ]
        },
        {
          "name": "stdout",
          "output_type": "stream",
          "text": [
            "Repetition 4, Episode 73 Priority: 1\n",
            "Repetition 4, Episode 74 Priority: 1\n",
            "Repetition 4, Episode 75 Priority: 1\n",
            "Repetition 4, Episode 76 Priority: 1\n",
            "Repetition 4, Episode 77 Priority: 1\n",
            "Repetition 4, Episode 78 Priority: 1\n"
          ]
        },
        {
          "name": "stderr",
          "output_type": "stream",
          "text": [
            "c:\\Users\\mrnal\\anaconda3\\envs\\final_tensor_env\\Lib\\site-packages\\gym\\envs\\classic_control\\cartpole.py:179: UserWarning: \u001b[33mWARN: You are calling 'step()' even though this environment has already returned terminated = True. You should always call 'reset()' once you receive 'terminated = True' -- any further steps are undefined behavior.\u001b[0m\n",
            "  logger.warn(\n"
          ]
        },
        {
          "name": "stdout",
          "output_type": "stream",
          "text": [
            "Repetition 4, Episode 79 Priority: 1\n",
            "Repetition 4, Episode 80 Priority: 1\n",
            "Repetition 4, Episode 81 Priority: 1\n",
            "Repetition 4, Episode 82 Priority: 1\n",
            "Repetition 4, Episode 83 Priority: 1\n",
            "Repetition 4, Episode 84 Priority: 1\n",
            "Repetition 4, Episode 85 Priority: 1\n",
            "Repetition 4, Episode 86 Priority: 1\n",
            "Repetition 4, Episode 87 Priority: 1\n"
          ]
        },
        {
          "name": "stderr",
          "output_type": "stream",
          "text": [
            "c:\\Users\\mrnal\\anaconda3\\envs\\final_tensor_env\\Lib\\site-packages\\gym\\envs\\classic_control\\cartpole.py:179: UserWarning: \u001b[33mWARN: You are calling 'step()' even though this environment has already returned terminated = True. You should always call 'reset()' once you receive 'terminated = True' -- any further steps are undefined behavior.\u001b[0m\n",
            "  logger.warn(\n"
          ]
        },
        {
          "name": "stdout",
          "output_type": "stream",
          "text": [
            "Repetition 4, Episode 88 Priority: 1\n",
            "Repetition 4, Episode 89 Priority: 1\n",
            "Repetition 4, Episode 90 Priority: 1\n"
          ]
        },
        {
          "name": "stderr",
          "output_type": "stream",
          "text": [
            "c:\\Users\\mrnal\\anaconda3\\envs\\final_tensor_env\\Lib\\site-packages\\gym\\envs\\classic_control\\cartpole.py:179: UserWarning: \u001b[33mWARN: You are calling 'step()' even though this environment has already returned terminated = True. You should always call 'reset()' once you receive 'terminated = True' -- any further steps are undefined behavior.\u001b[0m\n",
            "  logger.warn(\n"
          ]
        },
        {
          "name": "stdout",
          "output_type": "stream",
          "text": [
            "Repetition 4, Episode 91 Priority: 1\n",
            "Repetition 4, Episode 92 Priority: 1\n",
            "Repetition 4, Episode 93 Priority: 1\n",
            "Repetition 4, Episode 94 Priority: 1\n",
            "Repetition 4, Episode 95 Priority: 1\n",
            "Repetition 4, Episode 96 Priority: 1\n",
            "Repetition 4, Episode 97 Priority: 1\n",
            "Repetition 4, Episode 98 Priority: 1\n",
            "Repetition 4, Episode 99 Priority: 1\n",
            "Repetition 4, Episode 100 Priority: 1\n",
            "Repetition 5, Episode 1 Priority: 1\n"
          ]
        },
        {
          "name": "stderr",
          "output_type": "stream",
          "text": [
            "c:\\Users\\mrnal\\anaconda3\\envs\\final_tensor_env\\Lib\\site-packages\\gym\\envs\\classic_control\\cartpole.py:179: UserWarning: \u001b[33mWARN: You are calling 'step()' even though this environment has already returned terminated = True. You should always call 'reset()' once you receive 'terminated = True' -- any further steps are undefined behavior.\u001b[0m\n",
            "  logger.warn(\n"
          ]
        },
        {
          "name": "stdout",
          "output_type": "stream",
          "text": [
            "Repetition 5, Episode 2 Priority: 1\n",
            "Repetition 5, Episode 3 Priority: 1\n",
            "Repetition 5, Episode 4 Priority: 1\n",
            "Repetition 5, Episode 5 Priority: 1\n",
            "Repetition 5, Episode 6 Priority: 1\n",
            "Repetition 5, Episode 7 Priority: 1\n",
            "Repetition 5, Episode 8 Priority: 1\n",
            "Repetition 5, Episode 9 Priority: 1\n"
          ]
        },
        {
          "name": "stderr",
          "output_type": "stream",
          "text": [
            "c:\\Users\\mrnal\\anaconda3\\envs\\final_tensor_env\\Lib\\site-packages\\gym\\envs\\classic_control\\cartpole.py:179: UserWarning: \u001b[33mWARN: You are calling 'step()' even though this environment has already returned terminated = True. You should always call 'reset()' once you receive 'terminated = True' -- any further steps are undefined behavior.\u001b[0m\n",
            "  logger.warn(\n"
          ]
        },
        {
          "name": "stdout",
          "output_type": "stream",
          "text": [
            "Repetition 5, Episode 10 Priority: 1\n",
            "Repetition 5, Episode 11 Priority: 1\n",
            "Repetition 5, Episode 12 Priority: 1\n",
            "Repetition 5, Episode 13 Priority: 1\n",
            "Repetition 5, Episode 14 Priority: 1\n",
            "Repetition 5, Episode 15 Priority: 1\n"
          ]
        },
        {
          "name": "stderr",
          "output_type": "stream",
          "text": [
            "c:\\Users\\mrnal\\anaconda3\\envs\\final_tensor_env\\Lib\\site-packages\\gym\\envs\\classic_control\\cartpole.py:179: UserWarning: \u001b[33mWARN: You are calling 'step()' even though this environment has already returned terminated = True. You should always call 'reset()' once you receive 'terminated = True' -- any further steps are undefined behavior.\u001b[0m\n",
            "  logger.warn(\n"
          ]
        },
        {
          "name": "stdout",
          "output_type": "stream",
          "text": [
            "Repetition 5, Episode 16 Priority: 1\n"
          ]
        },
        {
          "name": "stderr",
          "output_type": "stream",
          "text": [
            "c:\\Users\\mrnal\\anaconda3\\envs\\final_tensor_env\\Lib\\site-packages\\gym\\envs\\classic_control\\cartpole.py:179: UserWarning: \u001b[33mWARN: You are calling 'step()' even though this environment has already returned terminated = True. You should always call 'reset()' once you receive 'terminated = True' -- any further steps are undefined behavior.\u001b[0m\n",
            "  logger.warn(\n"
          ]
        },
        {
          "name": "stdout",
          "output_type": "stream",
          "text": [
            "Repetition 5, Episode 17 Priority: 1\n",
            "Repetition 5, Episode 18 Priority: 1\n",
            "Repetition 5, Episode 19 Priority: 1\n",
            "Repetition 5, Episode 20 Priority: 1\n",
            "Repetition 5, Episode 21 Priority: 1\n",
            "Repetition 5, Episode 22 Priority: 1\n",
            "Repetition 5, Episode 23 Priority: 1\n",
            "Repetition 5, Episode 24 Priority: 1\n",
            "Repetition 5, Episode 25 Priority: 1\n",
            "Repetition 5, Episode 26 Priority: 1\n",
            "Repetition 5, Episode 27 Priority: 1\n",
            "Repetition 5, Episode 28 Priority: 1\n",
            "Repetition 5, Episode 29 Priority: 1\n",
            "Repetition 5, Episode 30 Priority: 1\n",
            "Repetition 5, Episode 31 Priority: 1\n",
            "Repetition 5, Episode 32 Priority: 1\n",
            "Repetition 5, Episode 33 Priority: 1\n",
            "Repetition 5, Episode 34 Priority: 1\n"
          ]
        },
        {
          "name": "stderr",
          "output_type": "stream",
          "text": [
            "c:\\Users\\mrnal\\anaconda3\\envs\\final_tensor_env\\Lib\\site-packages\\gym\\envs\\classic_control\\cartpole.py:179: UserWarning: \u001b[33mWARN: You are calling 'step()' even though this environment has already returned terminated = True. You should always call 'reset()' once you receive 'terminated = True' -- any further steps are undefined behavior.\u001b[0m\n",
            "  logger.warn(\n"
          ]
        },
        {
          "name": "stdout",
          "output_type": "stream",
          "text": [
            "Repetition 5, Episode 35 Priority: 1\n",
            "Repetition 5, Episode 36 Priority: 1\n",
            "Repetition 5, Episode 37 Priority: 1\n",
            "Repetition 5, Episode 38 Priority: 1\n",
            "Repetition 5, Episode 39 Priority: 1\n",
            "Repetition 5, Episode 40 Priority: 1\n",
            "Repetition 5, Episode 41 Priority: 1\n",
            "Repetition 5, Episode 42 Priority: 1\n",
            "Repetition 5, Episode 43 Priority: 1\n"
          ]
        },
        {
          "name": "stderr",
          "output_type": "stream",
          "text": [
            "c:\\Users\\mrnal\\anaconda3\\envs\\final_tensor_env\\Lib\\site-packages\\gym\\envs\\classic_control\\cartpole.py:179: UserWarning: \u001b[33mWARN: You are calling 'step()' even though this environment has already returned terminated = True. You should always call 'reset()' once you receive 'terminated = True' -- any further steps are undefined behavior.\u001b[0m\n",
            "  logger.warn(\n"
          ]
        },
        {
          "name": "stdout",
          "output_type": "stream",
          "text": [
            "Repetition 5, Episode 44 Priority: 1\n",
            "Repetition 5, Episode 45 Priority: 1\n",
            "Repetition 5, Episode 46 Priority: 1\n",
            "Repetition 5, Episode 47 Priority: 1\n",
            "Repetition 5, Episode 48 Priority: 1\n",
            "Repetition 5, Episode 49 Priority: 1\n",
            "Repetition 5, Episode 50 Priority: 1\n",
            "Repetition 5, Episode 51 Priority: 1\n",
            "Repetition 5, Episode 52 Priority: 1\n",
            "Repetition 5, Episode 53 Priority: 1\n",
            "Repetition 5, Episode 54 Priority: 1\n"
          ]
        },
        {
          "name": "stderr",
          "output_type": "stream",
          "text": [
            "c:\\Users\\mrnal\\anaconda3\\envs\\final_tensor_env\\Lib\\site-packages\\gym\\envs\\classic_control\\cartpole.py:179: UserWarning: \u001b[33mWARN: You are calling 'step()' even though this environment has already returned terminated = True. You should always call 'reset()' once you receive 'terminated = True' -- any further steps are undefined behavior.\u001b[0m\n",
            "  logger.warn(\n"
          ]
        },
        {
          "name": "stdout",
          "output_type": "stream",
          "text": [
            "Repetition 5, Episode 55 Priority: 1\n",
            "Repetition 5, Episode 56 Priority: 1\n",
            "Repetition 5, Episode 57 Priority: 1\n",
            "Repetition 5, Episode 58 Priority: 1\n"
          ]
        },
        {
          "name": "stderr",
          "output_type": "stream",
          "text": [
            "c:\\Users\\mrnal\\anaconda3\\envs\\final_tensor_env\\Lib\\site-packages\\gym\\envs\\classic_control\\cartpole.py:179: UserWarning: \u001b[33mWARN: You are calling 'step()' even though this environment has already returned terminated = True. You should always call 'reset()' once you receive 'terminated = True' -- any further steps are undefined behavior.\u001b[0m\n",
            "  logger.warn(\n"
          ]
        },
        {
          "name": "stdout",
          "output_type": "stream",
          "text": [
            "Repetition 5, Episode 59 Priority: 1\n",
            "Repetition 5, Episode 60 Priority: 1\n"
          ]
        },
        {
          "name": "stderr",
          "output_type": "stream",
          "text": [
            "c:\\Users\\mrnal\\anaconda3\\envs\\final_tensor_env\\Lib\\site-packages\\gym\\envs\\classic_control\\cartpole.py:179: UserWarning: \u001b[33mWARN: You are calling 'step()' even though this environment has already returned terminated = True. You should always call 'reset()' once you receive 'terminated = True' -- any further steps are undefined behavior.\u001b[0m\n",
            "  logger.warn(\n"
          ]
        },
        {
          "name": "stdout",
          "output_type": "stream",
          "text": [
            "Repetition 5, Episode 61 Priority: 1\n",
            "Repetition 5, Episode 62 Priority: 1\n",
            "Repetition 5, Episode 63 Priority: 1\n"
          ]
        },
        {
          "name": "stderr",
          "output_type": "stream",
          "text": [
            "c:\\Users\\mrnal\\anaconda3\\envs\\final_tensor_env\\Lib\\site-packages\\gym\\envs\\classic_control\\cartpole.py:179: UserWarning: \u001b[33mWARN: You are calling 'step()' even though this environment has already returned terminated = True. You should always call 'reset()' once you receive 'terminated = True' -- any further steps are undefined behavior.\u001b[0m\n",
            "  logger.warn(\n"
          ]
        },
        {
          "name": "stdout",
          "output_type": "stream",
          "text": [
            "Repetition 5, Episode 64 Priority: 1\n",
            "Repetition 5, Episode 65 Priority: 1\n",
            "Repetition 5, Episode 66 Priority: 1\n",
            "Repetition 5, Episode 67 Priority: 1\n",
            "Repetition 5, Episode 68 Priority: 1\n",
            "Repetition 5, Episode 69 Priority: 1\n",
            "Repetition 5, Episode 70 Priority: 1\n",
            "Repetition 5, Episode 71 Priority: 1\n",
            "Repetition 5, Episode 72 Priority: 1\n",
            "Repetition 5, Episode 73 Priority: 1\n",
            "Repetition 5, Episode 74 Priority: 1\n",
            "Repetition 5, Episode 75 Priority: 1\n",
            "Repetition 5, Episode 76 Priority: 1\n",
            "Repetition 5, Episode 77 Priority: 1\n",
            "Repetition 5, Episode 78 Priority: 1\n",
            "Repetition 5, Episode 79 Priority: 1\n"
          ]
        },
        {
          "name": "stderr",
          "output_type": "stream",
          "text": [
            "c:\\Users\\mrnal\\anaconda3\\envs\\final_tensor_env\\Lib\\site-packages\\gym\\envs\\classic_control\\cartpole.py:179: UserWarning: \u001b[33mWARN: You are calling 'step()' even though this environment has already returned terminated = True. You should always call 'reset()' once you receive 'terminated = True' -- any further steps are undefined behavior.\u001b[0m\n",
            "  logger.warn(\n"
          ]
        },
        {
          "name": "stdout",
          "output_type": "stream",
          "text": [
            "Repetition 5, Episode 80 Priority: 1\n",
            "Repetition 5, Episode 81 Priority: 1\n",
            "Repetition 5, Episode 82 Priority: 1\n",
            "Repetition 5, Episode 83 Priority: 1\n",
            "Repetition 5, Episode 84 Priority: 1\n",
            "Repetition 5, Episode 85 Priority: 1\n",
            "Repetition 5, Episode 86 Priority: 1\n",
            "Repetition 5, Episode 87 Priority: 1\n",
            "Repetition 5, Episode 88 Priority: 1\n"
          ]
        },
        {
          "name": "stderr",
          "output_type": "stream",
          "text": [
            "c:\\Users\\mrnal\\anaconda3\\envs\\final_tensor_env\\Lib\\site-packages\\gym\\envs\\classic_control\\cartpole.py:179: UserWarning: \u001b[33mWARN: You are calling 'step()' even though this environment has already returned terminated = True. You should always call 'reset()' once you receive 'terminated = True' -- any further steps are undefined behavior.\u001b[0m\n",
            "  logger.warn(\n"
          ]
        },
        {
          "name": "stdout",
          "output_type": "stream",
          "text": [
            "Repetition 5, Episode 89 Priority: 1\n",
            "Repetition 5, Episode 90 Priority: 1\n",
            "Repetition 5, Episode 91 Priority: 1\n",
            "Repetition 5, Episode 92 Priority: 1\n",
            "Repetition 5, Episode 93 Priority: 1\n",
            "Repetition 5, Episode 94 Priority: 1\n",
            "Repetition 5, Episode 95 Priority: 1\n",
            "Repetition 5, Episode 96 Priority: 1\n",
            "Repetition 5, Episode 97 Priority: 1\n",
            "Repetition 5, Episode 98 Priority: 1\n",
            "Repetition 5, Episode 99 Priority: 1\n",
            "Repetition 5, Episode 100 Priority: 1\n"
          ]
        },
        {
          "data": {
            "image/png": "[encoded data removed]",
            "text/plain": [
              "<Figure size 640x480 with 1 Axes>"
            ]
          },
          "metadata": {},
          "output_type": "display_data"
        },
        {
          "name": "stdout",
          "output_type": "stream",
          "text": [
            "     Repetition  Episode  Total Reward  Q Value Before  Q Value After  \\\n",
            "0           1.0      1.0          19.0             NaN            NaN   \n",
            "1           1.0      2.0          22.0             NaN            NaN   \n",
            "2           1.0      3.0          49.0        1.031494       1.012690   \n",
            "3           1.0      4.0           2.0        0.787418       0.785499   \n",
            "4           1.0      5.0          10.0        0.910226       0.904795   \n",
            "..          ...      ...           ...             ...            ...   \n",
            "495         5.0     96.0           1.0        0.597194       0.595734   \n",
            "496         5.0     97.0          11.0        0.642331       0.641484   \n",
            "497         5.0     98.0           4.0        0.700614       0.700366   \n",
            "498         5.0     99.0           6.0        0.666153       0.662954   \n",
            "499         5.0    100.0           8.0        0.637855       0.636741   \n",
            "\n",
            "     Priority  \n",
            "0         1.0  \n",
            "1         1.0  \n",
            "2         1.0  \n",
            "3         1.0  \n",
            "4         1.0  \n",
            "..        ...  \n",
            "495       1.0  \n",
            "496       1.0  \n",
            "497       1.0  \n",
            "498       1.0  \n",
            "499       1.0  \n",
            "\n",
            "[500 rows x 6 columns]\n"
          ]
        }
      ],
      "source": [
        "rewards_all_runs = []\n",
        "\n",
        "for repetition in range(num_repetitons):\n",
        "    rewards_per_episode = overall_training_neural_network(repetition)\n",
        "    rewards_all_runs.append(rewards_per_episode)\n",
        "\n",
        "rewards_all_runs = np.array(rewards_all_runs, dtype=object)\n",
        "\n",
        "for repetiton in range(num_repetitons):\n",
        "    plt.plot(rewards_all_runs[repetition], label=f'Run {repetition + 1}')\n",
        "\n",
        "max_length = min(len(run) for run in rewards_all_runs)\n",
        "avg_rewards = np.mean([run[:max_length] for run in rewards_all_runs], axis=0)\n",
        "plt.plot(avg_rewards, label='Average Reward', color='black', linestyle='--', linewidth=2)\n",
        "\n",
        "plt.xlabel('Episodes')\n",
        "plt.ylabel('Total Reward')\n",
        "plt.title('Total Reward per Episode Across Multiple Runs with Averaging(No Smoothing and no Convolution)')\n",
        "plt.legend(loc='upper left')\n",
        "plt.show()\n",
        "\n",
        "print(rewards_df)\n"
      ]
    },
    {
      "cell_type": "code",
      "execution_count": 16,
      "metadata": {},
      "outputs": [
        {
          "data": {
            "image/png": "[encoded data removed]",
            "text/plain": [
              "<Figure size 640x480 with 1 Axes>"
            ]
          },
          "metadata": {},
          "output_type": "display_data"
        },
        {
          "name": "stdout",
          "output_type": "stream",
          "text": [
            "     Repetition  Episode  Total Reward  Q Value Before  Q Value After  \\\n",
            "0           1.0      1.0          19.0             NaN            NaN   \n",
            "1           1.0      2.0          22.0             NaN            NaN   \n",
            "2           1.0      3.0          49.0        1.031494       1.012690   \n",
            "3           1.0      4.0           2.0        0.787418       0.785499   \n",
            "4           1.0      5.0          10.0        0.910226       0.904795   \n",
            "..          ...      ...           ...             ...            ...   \n",
            "495         5.0     96.0           1.0        0.597194       0.595734   \n",
            "496         5.0     97.0          11.0        0.642331       0.641484   \n",
            "497         5.0     98.0           4.0        0.700614       0.700366   \n",
            "498         5.0     99.0           6.0        0.666153       0.662954   \n",
            "499         5.0    100.0           8.0        0.637855       0.636741   \n",
            "\n",
            "     Priority  \n",
            "0         1.0  \n",
            "1         1.0  \n",
            "2         1.0  \n",
            "3         1.0  \n",
            "4         1.0  \n",
            "..        ...  \n",
            "495       1.0  \n",
            "496       1.0  \n",
            "497       1.0  \n",
            "498       1.0  \n",
            "499       1.0  \n",
            "\n",
            "[500 rows x 6 columns]\n"
          ]
        }
      ],
      "source": [
        "for repetiton in range(num_repetitons):\n",
        "    plt.plot(rewards_all_runs[repetition], label=f'Run {repetition + 1}')\n",
        "\n",
        "max_length = min(len(run) for run in rewards_all_runs)\n",
        "avg_rewards = np.mean([run[:max_length] for run in rewards_all_runs], axis=0)\n",
        "plt.plot(avg_rewards, label='Average Reward', color='black', linestyle='--', linewidth=2)\n",
        "\n",
        "plt.xlabel('Episodes')\n",
        "plt.ylabel('Total Reward')\n",
        "plt.title('Total Reward per Episode Across Multiple Runs with Averaging(No Smoothing and no Convolution)')\n",
        "plt.legend(loc='upper left')\n",
        "plt.show()\n",
        "\n",
        "print(rewards_df)"
      ]
    },
    {
      "cell_type": "code",
      "execution_count": 15,
      "metadata": {},
      "outputs": [],
      "source": [
        "rewards_df.to_csv(\"rewards_df.csv\", index=False)"
      ]
    }
  ],
  "metadata": {
    "colab": {
      "provenance": []
    },
    "kernelspec": {
      "display_name": "final_tensor_env",
      "language": "python",
      "name": "python3"
    },
    "language_info": {
      "codemirror_mode": {
        "name": "ipython",
        "version": 3
      },
      "file_extension": ".py",
      "mimetype": "text/x-python",
      "name": "python",
      "nbconvert_exporter": "python",
      "pygments_lexer": "ipython3",
      "version": "3.11.10"
    }
  },
  "nbformat": 4,
  "nbformat_minor": 0
}
